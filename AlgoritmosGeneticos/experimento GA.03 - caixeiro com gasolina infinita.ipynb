{
 "cells": [
  {
   "cell_type": "markdown",
   "metadata": {},
   "source": [
    "O caixeiro com gasolina infinita (e sem conciência ambiental)\n",
    "========================================\n",
    "\n"
   ]
  },
  {
   "cell_type": "markdown",
   "metadata": {},
   "source": [
    "## Introdução\n",
    "\n"
   ]
  },
  {
   "cell_type": "markdown",
   "metadata": {},
   "source": [
    " O problema do caixeiro viajante com gasolina infinita é uma variação do problema de NP-difícil do caixeiro viajante, só que nesse caso queremos encontrar o maior caminho possível para o caixeiro viajante passar. Ou seja, transformamos um problema de minimização em um problema de maximização. "
   ]
  },
  {
   "cell_type": "markdown",
   "metadata": {},
   "source": [
    "\n"
   ]
  },
  {
   "cell_type": "markdown",
   "metadata": {},
   "source": [
    "## Objetivo\n",
    "\n"
   ]
  },
  {
   "cell_type": "markdown",
   "metadata": {},
   "source": [
    "Encontre o caminho de *maior* distância no problema do caixeiro viajante e mostre ele de forma gráfica.\n"
   ]
  },
  {
   "cell_type": "markdown",
   "metadata": {},
   "source": [
    "## Considerações do experimento"
   ]
  },
  {
   "cell_type": "markdown",
   "metadata": {},
   "source": [
    "Considere um número $n\\geq 7$ de coordenadas $(x,y)$ de cidades e que o caixeiro tenha combustível infinito. Você pode gerar as coordenadas de forma aleatória ou simplesmente usar as coordenadas que desejar. O caixeiro só anda em linha reta e apenas entre duas cidades. O caixeiro começa e termina seu trajeto na mesma cidade e, fora a cidade inicial, ele não visita nenhuma outra cidade mais de uma vez."
   ]
  },
  {
   "cell_type": "markdown",
   "metadata": {},
   "source": [
    "## Importações\n",
    "\n"
   ]
  },
  {
   "cell_type": "markdown",
   "metadata": {},
   "source": [
    "Todos os comandos de `import` devem estar dentro desta seção.\n",
    "\n"
   ]
  },
  {
   "cell_type": "code",
   "execution_count": 1,
   "metadata": {},
   "outputs": [],
   "source": [
    "import random\n",
    "from itertools import permutations\n",
    "import matplotlib.pyplot as plt\n",
    "import networkx \n",
    "\n",
    "from funcoes import cria_cidades\n",
    "from funcoes import populacao_inicial_cv as cria_populacao_inicial\n",
    "from funcoes import funcao_objetivo_cv \n",
    "from funcoes import funcao_objetivo_pop_cv \n",
    "from funcoes import selecao_torneio_max as funcao_selecao\n",
    "from funcoes import cruzamento_ordenado as funcao_cruzamento\n",
    "from funcoes import mutacao_de_troca as funcao_mutacao"
   ]
  },
  {
   "cell_type": "markdown",
   "metadata": {},
   "source": [
    "## Códigos e discussão\n",
    "\n"
   ]
  },
  {
   "cell_type": "code",
   "execution_count": 2,
   "metadata": {},
   "outputs": [],
   "source": [
    "### CONSTANTES\n",
    "\n",
    "# relacionadas à busca\n",
    "TAMANHO_POP = 50\n",
    "NUM_GERACOES = 1000\n",
    "CHANCE_CRUZAMENTO = 0.5\n",
    "CHANCE_MUTACAO = 0.05\n",
    "NUM_COMBATENTES_NO_TORNEIO = 3\n",
    "\n",
    "# relacionadas ao problema a ser resolvido\n",
    "NUMERO_DE_CIDADES = 7\n",
    "CIDADES = cria_cidades(NUMERO_DE_CIDADES)"
   ]
  },
  {
   "cell_type": "code",
   "execution_count": 3,
   "metadata": {},
   "outputs": [],
   "source": [
    "# Funções locais\n",
    "def funcao_objetivo_pop(populacao):\n",
    "    return funcao_objetivo_pop_cv(populacao, CIDADES)\n",
    "\n",
    "def funcao_objetivo_individuo(individuo):\n",
    "    return funcao_objetivo_cv(individuo, CIDADES)"
   ]
  },
  {
   "cell_type": "code",
   "execution_count": 4,
   "metadata": {},
   "outputs": [],
   "source": [
    "# Busca por algoritmo genético\n",
    "\n",
    "populacao = cria_populacao_inicial(TAMANHO_POP, CIDADES)\n",
    "\n",
    "melhor_fitness_ja_visto = -float(\"inf\")  # é assim que escrevemos infinito em python\n",
    "\n",
    "for n in range(NUM_GERACOES):\n",
    "    \n",
    "    # Seleção\n",
    "    fitness = funcao_objetivo_pop(populacao)\n",
    "    populacao = funcao_selecao(populacao, fitness)\n",
    "    \n",
    "    # Cruzamento\n",
    "    pais = populacao[0::2]\n",
    "    maes = populacao[1::2]\n",
    "    \n",
    "    contador = 0\n",
    "    \n",
    "    for pai, mae in zip(pais, maes):\n",
    "        if random.random() <= CHANCE_CRUZAMENTO:\n",
    "            filho1, filho2 = funcao_cruzamento(pai, mae)\n",
    "            populacao[contador] = filho1\n",
    "            populacao[contador + 1] = filho2\n",
    "        \n",
    "        contador = contador + 2   \n",
    "        \n",
    "    # Mutação\n",
    "    for n in range(len(populacao)):\n",
    "        if random.random() <= CHANCE_MUTACAO:\n",
    "            individuo = populacao[n]\n",
    "            populacao[n] = funcao_mutacao(individuo)            \n",
    "            \n",
    "    # melhor individuo já visto até agora\n",
    "    fitness = funcao_objetivo_pop(populacao)\n",
    "    maior_fitness = min(fitness)\n",
    "    if maior_fitness > melhor_fitness_ja_visto:        \n",
    "        posicao = fitness.index(maior_fitness)\n",
    "        melhor_individuo_ja_visto = populacao[posicao]\n",
    "        melhor_fitness_ja_visto = maior_fitness  "
   ]
  },
  {
   "cell_type": "code",
   "execution_count": 5,
   "metadata": {},
   "outputs": [],
   "source": [
    "# Busca testando todas as permutações\n",
    "\n",
    "melhor_fitness_ever = -float(\"inf\")\n",
    "\n",
    "# testando todas as permutações possíveis\n",
    "for caminho in permutations(list(CIDADES.keys())):\n",
    "    distancia = funcao_objetivo_individuo(caminho)\n",
    "    if distancia > melhor_fitness_ever:\n",
    "        melhor_fitness_ever = distancia\n",
    "        melhor_resposta_ever = caminho"
   ]
  },
  {
   "cell_type": "code",
   "execution_count": 6,
   "metadata": {},
   "outputs": [
    {
     "name": "stdout",
     "output_type": "stream",
     "text": [
      "\n",
      "Melhor individuo obtido por algoritmos genéticos:\n",
      "['Cidade 3', 'Cidade 2', 'Cidade 5', 'Cidade 0', 'Cidade 6', 'Cidade 1', 'Cidade 4'] com distância: 5.188196871089321\n",
      "\n",
      "Melhor individuo obtido por busca exaustiva:\n",
      "('Cidade 2', 'Cidade 1', 'Cidade 6', 'Cidade 3', 'Cidade 4', 'Cidade 0', 'Cidade 5') com distância: 5.7022894902212755\n"
     ]
    }
   ],
   "source": [
    "# Checando os resultados\n",
    "\n",
    "print()\n",
    "print(\"Melhor individuo obtido por algoritmos genéticos:\")\n",
    "print(melhor_individuo_ja_visto, \"com distância:\", melhor_fitness_ja_visto)\n",
    "\n",
    "print()\n",
    "print(\"Melhor individuo obtido por busca exaustiva:\")\n",
    "print(melhor_resposta_ever, \"com distância:\", melhor_fitness_ever)"
   ]
  },
  {
   "cell_type": "code",
   "execution_count": 10,
   "metadata": {},
   "outputs": [
    {
     "data": {
      "image/png": "[encoded data removed]",
      "text/plain": [
       "<Figure size 432x288 with 1 Axes>"
      ]
     },
     "metadata": {},
     "output_type": "display_data"
    }
   ],
   "source": [
    "#Plotar o grafo\n",
    "\n",
    "g = networkx.Graph()\n",
    "for i in list(CIDADES.keys()): #Chama o dicionário\n",
    "    g.add_node(i)\n",
    "k = -1\n",
    "while k < len(melhor_individuo_ja_visto)-1: \n",
    "    g.add_edge(melhor_individuo_ja_visto[k], melhor_individuo_ja_visto[k+1]) #ligar vértice entre as arestas adjacentes\n",
    "    k+=1\n",
    "vertices = CIDADES.keys()\n",
    "\n",
    "#chamar o grafo\n",
    "pos = networkx.spring_layout(g,pos=CIDADES, fixed = vertices)\n",
    "networkx.draw_networkx(g,pos,node_color = 'y')\n"
   ]
  },
  {
   "cell_type": "markdown",
   "metadata": {},
   "source": [
    "### Discussão"
   ]
  },
  {
   "cell_type": "markdown",
   "metadata": {},
   "source": [
    "Esse experimento se difere do experimento do caixeiro viajante normal apenas no fato de ser um problema de maximização, ou seja, agora queremos encontrar o maior caminho possível, não mais o menor. Com isso, temos duas mudanças maiores com relação ao notebook e as funções, a função de seleção tem que ser uma função de maximização, então troquei a função de seleção por torneio mínimo por seleção por torneio máximo. Nessa função, há uma comparação (\"torneio\") entre os indivíduos e aquele com maior fitness será escolhido para a próxima geração. Além disso, no notebook alterei o \"melhor_fitness_já_visto\" para ser iniciado com \"-inf\" para ser substituido pelos indivíduos que tenham um fitness maior. E apenas com essas modificações podemos transformar o problema do caixeiro viajante mínimo em um problema de maximização.\n",
    "\n",
    "Utilizamos também o algoritmo de busca exaustiva para testar todas as possibilidades e encontrar o valor correto para fins comparativos. \n",
    "\n",
    "Utilizamos também o algoritmo de busca exaustiva, utilizado anteriormente nesse repositório, para testar todas as possibilidades e encontrar o valor correto para fins comparativos. \n",
    "O grafo plotado, através da biblioteca networks, mostra o maior caminho realizado pelo caixeiro viajante para cada vez que rodarmos o algoritmo."
   ]
  },
  {
   "cell_type": "markdown",
   "metadata": {},
   "source": [
    "## Conclusão\n",
    "\n"
   ]
  },
  {
   "cell_type": "markdown",
   "metadata": {},
   "source": [
    "Com esse notebook resolvemos o problema do caixeiro viajante com gasolina infinita utilizando algoritmos genéticos. A resolução é muito similar a do caixeiro viajante com algumas modificações, sendo a maior delas alterar os algoritmos genéticos para considerar os indivíduos com o maior fitness na função de seleção.  \n",
    "\n",
    "Olhando para os resultados do algoritmo genéticos e da busca exaustivo, vemos uma diferença entre os valores, mas podemos considerar que o algoritmo genético convergiu bem para esse problema. "
   ]
  },
  {
   "cell_type": "markdown",
   "metadata": {},
   "source": [
    "## Playground\n",
    "\n"
   ]
  },
  {
   "cell_type": "markdown",
   "metadata": {},
   "source": [
    "Todo código de teste que não faz parte do seu experimento deve vir aqui. Este código não será considerado na avaliação.\n",
    "\n"
   ]
  },
  {
   "cell_type": "markdown",
   "metadata": {},
   "source": [
    "cruzamento_ordenado_lt()\n",
    "gerar um index aleatrorio e para ele gerar um valor aleatório de gene. se o gene gerado for maior que o gene anterior = outro gene menos a dif dos dois. caso contrario ele soma a diferença"
   ]
  },
  {
   "cell_type": "code",
   "execution_count": 8,
   "metadata": {},
   "outputs": [
    {
     "ename": "SyntaxError",
     "evalue": "invalid syntax (Temp/ipykernel_9108/3325311149.py, line 16)",
     "output_type": "error",
     "traceback": [
      "\u001b[1;36m  File \u001b[1;32m\"C:\\Users\\DANIEL~1\\AppData\\Local\\Temp/ipykernel_9108/3325311149.py\"\u001b[1;36m, line \u001b[1;32m16\u001b[0m\n\u001b[1;33m    index_aleatorio_2 =\u001b[0m\n\u001b[1;37m                       ^\u001b[0m\n\u001b[1;31mSyntaxError\u001b[0m\u001b[1;31m:\u001b[0m invalid syntax\n"
     ]
    }
   ],
   "source": [
    "\n",
    "# Definir lista index com enumerate\n",
    "\n",
    "index_aleatorio = random.choice(lista_index)\n",
    "gene_novo = gene_lt() # Qual vai ser o valor máximo?\n",
    "gene_anterior = individuo[index_aleatorio] \n",
    "\n",
    "individuo[index_aleatorio] = gene_novo\n",
    "\n",
    "# Fazer alguma coisa aqui para testar se todos os genes terão mais que 5 gramas\n",
    "\n",
    "while True:\n",
    "    \n",
    "    # Deve ser um index que seja diferente de index aleatorio\n",
    "    # Dá p simplesmente fazer um pop da lista_index\n",
    "\n",
    "    index_aleatorio_2 =\n",
    "    \n",
    "    if gene_novo >= gene_anterior:\n",
    "        individuo[index_aleatorio_2] -= gene_novo-gene_anterior\n",
    "    else:\n",
    "        individuo[index_aleatorio_2] += gene_anterior-gene_novo"
   ]
  }
 ],
 "metadata": {
  "kernelspec": {
   "display_name": "ilumpy",
   "language": "python",
   "name": "ilumpy"
  },
  "language_info": {
   "codemirror_mode": {
    "name": "ipython",
    "version": 3
   },
   "file_extension": ".py",
   "mimetype": "text/x-python",
   "name": "python",
   "nbconvert_exporter": "python",
   "pygments_lexer": "ipython3",
   "version": "3.9.7"
  },
  "org": null
 },
 "nbformat": 4,
 "nbformat_minor": 4
}
