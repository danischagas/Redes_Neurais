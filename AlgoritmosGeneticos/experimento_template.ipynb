{
 "cells": [
  {
   "cell_type": "markdown",
   "source": [
    "Escreva aqui o título do seu experimento\n",
    "========================================\n",
    "\n"
   ],
   "metadata": {}
  },
  {
   "cell_type": "markdown",
   "source": [
    "## Introdução\n",
    "\n"
   ],
   "metadata": {}
  },
  {
   "cell_type": "markdown",
   "source": [
    "Delete este texto e escreva uma breve introdução sobre seu experimento.\n",
    "\n"
   ],
   "metadata": {}
  },
  {
   "cell_type": "markdown",
   "source": [
    "## Objetivo\n",
    "\n"
   ],
   "metadata": {}
  },
  {
   "cell_type": "markdown",
   "source": [
    "Delete este texto e escreva seu objetivo.\n",
    "\n"
   ],
   "metadata": {}
  },
  {
   "cell_type": "markdown",
   "source": [
    "## Importações\n",
    "\n"
   ],
   "metadata": {}
  },
  {
   "cell_type": "markdown",
   "source": [
    "Todos os comandos de `import` devem estar dentro desta seção.\n",
    "\n"
   ],
   "metadata": {}
  },
  {
   "cell_type": "code",
   "execution_count": 1,
   "source": [
    "import random"
   ],
   "outputs": [],
   "metadata": {}
  },
  {
   "cell_type": "markdown",
   "source": [
    "## Códigos e discussão\n",
    "\n"
   ],
   "metadata": {}
  },
  {
   "cell_type": "markdown",
   "source": [
    "-   Use células de código para o código.\n",
    "\n",
    "-   Use células de texto para a discussão.\n",
    "\n",
    "-   A discussão não deve ser feita em comentários dentro das células de código. Toda discussão deve acontecer após o resultado sendo discutido foi apresentado. Exemplo: não discuta um gráfico antes de apresentá-lo.\n",
    "\n"
   ],
   "metadata": {}
  },
  {
   "cell_type": "code",
   "execution_count": 7,
   "source": [
    "# lista para representar meu individuo\r\n",
    "# qtde de elementos na lista é o numero de genes\r\n",
    "# cada gene pode ser 0 ou 1, número aleatório\r\n",
    "\r\n",
    "def gene_caixabinaria():\r\n",
    "    \"\"\" gera um gene válido para o problema das caixas binarias\r\n",
    "\r\n",
    "    Return:\r\n",
    "     Um valor zero ou um.\r\n",
    "     \"\"\"\r\n",
    "    lista = [0,1]\r\n",
    "    gene = random.choice(lista)\r\n",
    "    return gene\r\n",
    "     \r\n",
    "\r\n",
    "def individuo_cb(n):\r\n",
    "    \"\"\" gera um indivíduo para o problema das caixas binárias. \r\n",
    "\r\n",
    "    Args: \r\n",
    "        n: numero de genes do individuo\r\n",
    "\r\n",
    "    Return:\r\n",
    "     Uma lista com n genes. Cada gene é um valor zero ou um.\r\n",
    "     \"\"\"\r\n",
    "    individuo = []\r\n",
    "    for i in range(n):\r\n",
    "        gene = gene_caixabinaria()\r\n",
    "        individuo.append(gene)\r\n",
    "    return individuo\r\n",
    "\r\n",
    "def funcao_objetivo_cb(individuo):\r\n",
    "    \"\"\" computa a função objetivo no problema das caixas binárias.\r\n",
    "    \r\n",
    "    Args: \r\n",
    "        Individuo: lista contendo os genes das caixas binárias\r\n",
    "\r\n",
    "    Return:\r\n",
    "        Um valor representando a soma dos genes dos indivíduos.\r\n",
    "    \"\"\"\r\n",
    "    return sum(individuo)"
   ],
   "outputs": [],
   "metadata": {}
  },
  {
   "cell_type": "code",
   "execution_count": 8,
   "source": [
    "# constantes (letra maiscúlas)\r\n",
    "NUM_SORTEIOS = 8\r\n",
    "NUM_GENES = 4"
   ],
   "outputs": [],
   "metadata": {}
  },
  {
   "cell_type": "code",
   "execution_count": 9,
   "source": [
    "for n in range(NUM_SORTEIOS):\r\n",
    "    candidato = individuo_cb(NUM_GENES)\r\n",
    "    fobj =  funcao_objetivo_cb(candidato)\r\n",
    "    print (candidato, fobj)"
   ],
   "outputs": [
    {
     "output_type": "stream",
     "name": "stdout",
     "text": [
      "[0, 0, 1, 0] 1\n",
      "[0, 0, 0, 0] 0\n",
      "[0, 0, 0, 0] 0\n",
      "[0, 0, 0, 1] 1\n",
      "[1, 0, 0, 0] 1\n",
      "[0, 1, 1, 1] 3\n",
      "[1, 0, 1, 0] 2\n",
      "[0, 1, 0, 0] 1\n"
     ]
    }
   ],
   "metadata": {}
  },
  {
   "cell_type": "markdown",
   "source": [
    "## Conclusão\n",
    "\n"
   ],
   "metadata": {}
  },
  {
   "cell_type": "markdown",
   "source": [
    "Resolvemos o problema das caixas binárias com 4 caixas.  O resultado obtido rodando esse algoritmo várias vezes mostrou números diferentes em cada vez, isso demonstra que o experimento é probabilístico.\r\n"
   ],
   "metadata": {}
  },
  {
   "cell_type": "markdown",
   "source": [
    "## Referências consultadas\n",
    "\n"
   ],
   "metadata": {}
  },
  {
   "cell_type": "markdown",
   "source": [
    "1.  Delete este texto e inclua suas referências ordenadas numericamente. Se for referenciar no notebook, use o número entre colchetes (exemplo: para citar essa referência aqui escreva &ldquo;[1]&rdquo; sem as áspas).\n",
    "\n",
    "2.  Cada item deve ser numerado. Siga o padrão apresentado.\n",
    "\n",
    "3.  Caso não tenha nenhuma referência consultada, delete esta seção e o texto contido nela!\n",
    "\n"
   ],
   "metadata": {}
  },
  {
   "cell_type": "markdown",
   "source": [
    "## Playground\n",
    "\n"
   ],
   "metadata": {}
  },
  {
   "cell_type": "markdown",
   "source": [
    "Todo código de teste que não faz parte do seu experimento deve vir aqui. Este código não será considerado na avaliação.\n",
    "\n"
   ],
   "metadata": {}
  },
  {
   "cell_type": "code",
   "execution_count": null,
   "source": [],
   "outputs": [],
   "metadata": {}
  }
 ],
 "metadata": {
  "kernelspec": {
   "display_name": "ilumpy",
   "language": "python",
   "name": "ilumpy"
  },
  "org": null,
  "language_info": {
   "name": "python",
   "version": "3.9.7",
   "mimetype": "text/x-python",
   "codemirror_mode": {
    "name": "ipython",
    "version": 3
   },
   "pygments_lexer": "ipython3",
   "nbconvert_exporter": "python",
   "file_extension": ".py"
  }
 },
 "nbformat": 4,
 "nbformat_minor": 4
}