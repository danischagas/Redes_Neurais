{
 "cells": [
  {
   "cell_type": "markdown",
   "metadata": {},
   "source": [
    "O caixeiro viajante astronauta\n",
    "========================================"
   ]
  },
  {
   "cell_type": "markdown",
   "metadata": {},
   "source": [
    "## Introdução\n",
    "\n",
    "O experimento anterior que discutimos sobre o caixeiro viajante foi realizado em um espaço bidimensional, já que as casas só podiam estar em uma altura de $z$ (o chão). Agora, vamos considerar que as cidades são semelhantes a estações espaciais, ou seja, têm coordenadas em um espaço tridimensional, (em longitude, latitude e na altura em relação ao chão da terra). Nessa nova configuração, nosso viajante é um astronauta que deve visitar todas as estações espaciais e queremos descobrir a ordem ideal de visitação que minimize a distância total percorrida.\n"
   ]
  },
  {
   "cell_type": "markdown",
   "metadata": {},
   "source": [
    "## Objetivo\n",
    "Encontre o caminho de menor distância no problema do caixeiro viajante astronauta.\n",
    "\n",
    "\n",
    "**Considerações do experimento:** Considere neste problema número  𝑛≥7\n",
    "  de coordenadas  (𝑥,𝑦,𝑧)\n",
    "  de estações espaciais. Use as mesmas regras dos problemas usuais do caixeiro viajante.\n",
    "\n"
   ]
  },
  {
   "cell_type": "markdown",
   "metadata": {},
   "source": [
    "## Importações\n",
    "\n"
   ]
  },
  {
   "cell_type": "markdown",
   "metadata": {},
   "source": [
    "Todos os comandos de `import` devem estar dentro desta seção.\n",
    "\n"
   ]
  },
  {
   "cell_type": "code",
   "execution_count": 1,
   "metadata": {},
   "outputs": [],
   "source": [
    "import random\n",
    "import matplotlib.pyplot as plt\n",
    "from itertools import permutations\n",
    "from funcoes import cria_cidades_espaciais as cria_cidades\n",
    "from funcoes import populacao_inicial_cv\n",
    "from funcoes import funcao_objetivo_cva as funcao_objetivo_individuo\n",
    "from funcoes import funcao_objetivo_pop_cva\n",
    "from funcoes import selecao_torneio_min\n",
    "from funcoes import cruzamento_ordenado as funcao_cruzamento\n",
    "from funcoes import mutacao_de_troca as funcao_mutacao"
   ]
  },
  {
   "cell_type": "markdown",
   "metadata": {},
   "source": [
    "## Códigos e discussão\n",
    "\n"
   ]
  },
  {
   "cell_type": "code",
   "execution_count": 2,
   "metadata": {},
   "outputs": [
    {
     "data": {
      "text/plain": [
       "{'Cidade 0': (0.09771512553996597, 0.5454198887534539, 0.9712827966021921),\n",
       " 'Cidade 1': (0.44554655088509654, 0.7681388652223339, 0.9530423965972491),\n",
       " 'Cidade 2': (0.9108442996791521, 0.6937990798427676, 0.17074188939342116),\n",
       " 'Cidade 3': (0.12938049420299735, 0.1342719616824729, 0.47910395760072055),\n",
       " 'Cidade 4': (0.5552463895018074, 0.7416081364893573, 0.3517835735977579),\n",
       " 'Cidade 5': (0.609670499588493, 0.9758380311696555, 0.8653258659753366),\n",
       " 'Cidade 6': (0.9490192939165735, 0.449759110804441, 0.6608268193603286)}"
      ]
     },
     "execution_count": 2,
     "metadata": {},
     "output_type": "execute_result"
    }
   ],
   "source": [
    "### CONSTANTES\n",
    "\n",
    "# relacionadas à busca\n",
    "TAMANHO_POP = 50\n",
    "CHANCE_CRUZAMENTO = 0.5\n",
    "CHANCE_MUTACAO = 0.05\n",
    "NUM_COMBATENTES_NO_TORNEIO = 3\n",
    "NUM_GERACOES = 100\n",
    "\n",
    "# relacionadas ao problema a ser resolvido\n",
    "CIDADES = cria_cidades(7)\n",
    "NUM_GENES = len(CIDADES)\n",
    "CIDADES"
   ]
  },
  {
   "cell_type": "code",
   "execution_count": 3,
   "metadata": {},
   "outputs": [],
   "source": [
    "# funções locais (para não ter que colocar as variaveis locais no script\n",
    "def cria_populacao_inicial(tamanho, nada):\n",
    "    return populacao_inicial_cv(tamanho, CIDADES)\n",
    "\n",
    "def funcao_objetivo_pop(populacao):\n",
    "    return funcao_objetivo_pop_cva(populacao, CIDADES)\n",
    "\n",
    "def funcao_selecao(populacao, fitness):\n",
    "    return selecao_torneio_min(populacao, fitness, NUM_COMBATENTES_NO_TORNEIO)\n"
   ]
  },
  {
   "cell_type": "code",
   "execution_count": 4,
   "metadata": {},
   "outputs": [],
   "source": [
    "# Busca por algoritmo genético\n",
    "\n",
    "populacao = cria_populacao_inicial(TAMANHO_POP, NUM_GENES)\n",
    "\n",
    "melhor_fitness_ja_visto = float(\"inf\")  # é assim que escrevemos infinito em python\n",
    "\n",
    "lista_melhor_fitness = []\n",
    "\n",
    "for n in range(NUM_GERACOES):\n",
    "    \n",
    "    # Seleção\n",
    "    fitness = funcao_objetivo_pop(populacao)\n",
    "    populacao = funcao_selecao(populacao, fitness)\n",
    "    \n",
    "    # Cruzamento\n",
    "    pais = populacao[0::2]\n",
    "    maes = populacao[1::2]\n",
    "    \n",
    "    contador = 0\n",
    "    \n",
    "    for pai, mae in zip(pais, maes):\n",
    "        if random.random() <= CHANCE_CRUZAMENTO:\n",
    "            filho1, filho2 = funcao_cruzamento(pai, mae)\n",
    "            populacao[contador] = filho1\n",
    "            populacao[contador + 1] = filho2\n",
    "        \n",
    "        contador = contador + 2   \n",
    "        \n",
    "    # Mutação\n",
    "    for n in range(len(populacao)):\n",
    "        if random.random() <= CHANCE_MUTACAO:\n",
    "            individuo = populacao[n]\n",
    "            populacao[n] = funcao_mutacao(individuo)            \n",
    "            \n",
    "    # melhor individuo já visto até agora\n",
    "    fitness = funcao_objetivo_pop(populacao)\n",
    "    menor_fitness = min(fitness)\n",
    "    if menor_fitness < melhor_fitness_ja_visto:        \n",
    "        posicao = fitness.index(menor_fitness)\n",
    "        melhor_individuo_ja_visto = populacao[posicao]\n",
    "        melhor_fitness_ja_visto = menor_fitness    \n",
    "    lista_melhor_fitness.append(melhor_fitness_ja_visto)\n"
   ]
  },
  {
   "cell_type": "code",
   "execution_count": 5,
   "metadata": {},
   "outputs": [],
   "source": [
    "# Busca testando todas as permutações\n",
    "\n",
    "melhor_fitness_ever = float(\"inf\")\n",
    "\n",
    "# testando todas as permutações possíveis\n",
    "for caminho in permutations(list(CIDADES.keys())):\n",
    "    distancia = funcao_objetivo_individuo(caminho, CIDADES)\n",
    "    if distancia < melhor_fitness_ever:\n",
    "        melhor_fitness_ever = distancia\n",
    "        melhor_resposta_ever = caminho"
   ]
  },
  {
   "cell_type": "code",
   "execution_count": 6,
   "metadata": {},
   "outputs": [
    {
     "name": "stdout",
     "output_type": "stream",
     "text": [
      "\n",
      "Melhor individuo obtido por algoritmos genéticos:\n",
      "['Cidade 0', 'Cidade 2', 'Cidade 4', 'Cidade 3', 'Cidade 1', 'Cidade 5', 'Cidade 6'] com distância: 3.6962957058437897\n",
      "\n",
      "Melhor individuo obtido por busca exaustiva:\n",
      "('Cidade 0', 'Cidade 1', 'Cidade 5', 'Cidade 6', 'Cidade 2', 'Cidade 4', 'Cidade 3') com distância: 3.6962957058437897\n"
     ]
    }
   ],
   "source": [
    "# Checando os resultados\n",
    "\n",
    "print()\n",
    "print(\"Melhor individuo obtido por algoritmos genéticos:\")\n",
    "print(melhor_individuo_ja_visto, \"com distância:\", melhor_fitness_ja_visto)\n",
    "\n",
    "print()\n",
    "print(\"Melhor individuo obtido por busca exaustiva:\")\n",
    "print(melhor_resposta_ever, \"com distância:\", melhor_fitness_ever)"
   ]
  },
  {
   "cell_type": "markdown",
   "metadata": {
    "tags": []
   },
   "source": [
    "## Discussão\n",
    "\n"
   ]
  },
  {
   "cell_type": "markdown",
   "metadata": {},
   "source": [
    "O código implementa um algoritmo genético para resolver o problema do caixeiro viajante em um cenário tridimensional, onde as cidades são representadas como \"estações espaciais\" com coordenadas em três dimensões. Ele utiliza configurações como o tamanho da população inicial, a probabilidade de cruzamento e mutação, o número de combatentes no torneio de seleção e o número de gerações. O algoritmo percorre várias gerações, realizando seleção, cruzamento e mutação dos indivíduos. Ao final, ele busca a solução ótima testando todas as permutações possíveis, armazenando a distância percorrida e o caminho correspondente. \n",
    "As funções que utilizamos são muito semelhantes as do caixeiro viajante, as modificações são referentes ao fato de que agora as cidades/estações espaciais tem três coordenadas e não mais duas. Logo, a função objetivo foi modificada para calcular a distância entre cidades com três dimensões X,Y e Z.  \n",
    "Além disso, o código apresenta um algoritmo de busca por permutação. Testando todos as possibilidades até encontrar a melhor. "
   ]
  },
  {
   "cell_type": "markdown",
   "metadata": {},
   "source": [
    "## Conclusão\n",
    "\n"
   ]
  },
  {
   "cell_type": "markdown",
   "metadata": {},
   "source": [
    "Nesse experimento, foi utilizado o algoritmo genético para resolver o desafiador problema do caixeiro viajante astronauta em um cenário tridimensional. O objetivo era minimizar a distância percorrida pelo astronauta ao visitar todas as cidades representadas como \"estações espaciais\" com coordenadas em três dimensões.\n",
    "\n",
    "O algoritmo genético implementado empregou estratégias como seleção por torneio, cruzamento e mutação para evoluir a população de soluções ao longo de várias gerações. A seleção por torneio permitiu a escolha dos indivíduos mais aptos, enquanto o cruzamento e a mutação introduziram variações genéticas para explorar diferentes combinações de cidades.\n",
    "\n",
    "A mutação utilizada foi a mutação de troca, na qual dois genes (cidades) foram escolhidos aleatoriamente e tiveram seus valores trocados. Já o cruzamento adotado foi o cruzamento ordenado, com dois pontos de corte e um loop para evitar repetição de genes nos filhos, garantindo que todas as cidades fossem mantidas e nenhuma fosse adicionada ou removida.\n",
    "\n",
    "Além dos algoritmos genéticos, foi realizada uma busca por permutação que testou todas as possibilidades, utilizando um algoritmo determinístico. O resultado dessa busca foi comparado com o resultado obtido pelo algoritmo genético, e constatou-se que ambos chegaram ao mesmo resultado.\n",
    "\n",
    "Em conclusão, os algoritmos genéticos demonstraram ser eficientes para resolver o problema do caixeiro viajante astronauta, assim como o problema clássico do caixeiro viajante. \n",
    "Ao realizar outra variação do experimento do caixeiro viajante, é interessante pensar em como uma mesma estrutura de funções e de algoritmo genético pode se aplicar para diferentes problemas apenas com algumas pequenas modificações. Nesse caso, com apenas uma mudança na criação de cidades e na função objetivo pudemos mandar o caixeiro viajante para o espaço. Dessa forma, temos a amostra de flexibilidade dessa abordagem, capaz de lidar com diferentes variações do problema com pequenas modificações nas funções e parâmetros. Essa versatilidade amplia o potencial de aplicação dos algoritmos genéticos em diversas áreas."
   ]
  },
  {
   "cell_type": "markdown",
   "metadata": {},
   "source": [
    "## Playground\n",
    "\n"
   ]
  },
  {
   "cell_type": "markdown",
   "metadata": {},
   "source": [
    "Todo código de teste que não faz parte do seu experimento deve vir aqui. Este código não será considerado na avaliação.\n",
    "\n"
   ]
  }
 ],
 "metadata": {
  "kernelspec": {
   "display_name": "ilumpy",
   "language": "python",
   "name": "ilumpy"
  },
  "language_info": {
   "codemirror_mode": {
    "name": "ipython",
    "version": 3
   },
   "file_extension": ".py",
   "mimetype": "text/x-python",
   "name": "python",
   "nbconvert_exporter": "python",
   "pygments_lexer": "ipython3",
   "version": "3.9.7"
  },
  "org": null
 },
 "nbformat": 4,
 "nbformat_minor": 4
}
