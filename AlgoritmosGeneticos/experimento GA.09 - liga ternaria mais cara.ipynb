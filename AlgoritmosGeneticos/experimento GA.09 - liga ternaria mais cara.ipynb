{
 "cells": [
  {
   "cell_type": "markdown",
   "metadata": {},
   "source": [
    "A liga ternária mais cara do mundo\n",
    "========================================\n",
    "\n"
   ]
  },
  {
   "cell_type": "markdown",
   "metadata": {},
   "source": [
    "## Introdução\n",
    "\n"
   ]
  },
  {
   "cell_type": "markdown",
   "metadata": {},
   "source": [
    "O experimento da liga ternária representa um problema que pode existir nas ciências de materiais. Quando se pensa em criar novos materiais um dos critérios importantes é o preço, por isso, podemos utilizar algoritmos genéticos para maximizar ou minimizar a função de preço utilizada para calcular o preço dos materiais. Nesse caso, queremos calcular o maior preço possível para uma liga com três elementos químicos.  \n"
   ]
  },
  {
   "cell_type": "markdown",
   "metadata": {},
   "source": [
    "## Objetivo\n",
    "\n"
   ]
  },
  {
   "cell_type": "markdown",
   "metadata": {},
   "source": [
    "Encontre uma liga de três elementos que tenha o maior custo possível. A liga ternária deve ser da forma $x$A.$y$B.$z$C sendo que $x+y+z = 100\\,\\mathrm{g}$, $x>5\\,\\mathrm{g}$, $y>5\\,\\mathrm{g}$, $z>5\\,\\mathrm{g}$ e &ldquo;A&rdquo;, &ldquo;B&rdquo; e &ldquo;C&rdquo; são elementos químicos. Considere que qualquer composto com 3 elementos químicos é chamado de liga.\n"
   ]
  },
  {
   "cell_type": "markdown",
   "metadata": {},
   "source": [
    "## Importações\n",
    "\n"
   ]
  },
  {
   "cell_type": "markdown",
   "metadata": {},
   "source": [
    "Todos os comandos de `import` devem estar dentro desta seção.\n",
    "\n"
   ]
  },
  {
   "cell_type": "code",
   "execution_count": null,
   "metadata": {},
   "outputs": [],
   "source": [
    "import rando\n",
    "from constantes import preco\n",
    "from funcoes import cruzamento_ordenado_lt\n",
    "from funcoes import cruzamento_ordenado\n",
    "\n",
    "from funcoes import individuo_lt\n",
    "from funcoes import mutacao_de_troca\n",
    "from funcoes import populacao_inicial_lt\n",
    "from funcoes import funcao_objetivo_pop_lt\n",
    "from funcoes import selecao_roleta_max\n",
    "from funcoes import cruzamento_ponto_simples_lt"
   ]
  },
  {
   "cell_type": "markdown",
   "metadata": {},
   "source": [
    "## Códigos e discussão\n",
    "\n"
   ]
  },
  {
   "cell_type": "markdown",
   "metadata": {},
   "source": [
    "-   A discussão não deve ser feita em comentários dentro das células de código. Toda discussão deve acontecer após o resultado sendo discutido foi apresentado. Exemplo: não discuta um gráfico antes de apresentá-lo.\n",
    "\n"
   ]
  },
  {
   "cell_type": "code",
   "execution_count": 3,
   "metadata": {},
   "outputs": [],
   "source": [
    "# gene = as ligas\n",
    "# individuo = 3 ligas ou o indivíduo é xAyBzC?\n",
    "# problema de maximização\n",
    "# condições - 5g de cada liga no mínimo e 100g no total.\n",
    "\n",
    "#E SE EU FIZER A FUNÇÃO GENE E GARANTIR 3 GENES DIF DE ZERO?\n"
   ]
  },
  {
   "cell_type": "code",
   "execution_count": 1,
   "metadata": {},
   "outputs": [],
   "source": [
    "# constantes do problema\n",
    "\n",
    "#constantes de busca\n",
    "TAMANHO_POP = 100\n",
    "CHANCE_CRUZAMENTO = 0.5\n",
    "CHANCE_MUTACAO = 0.05\n",
    "NUM_COMBATENTES_NO_TORNEIO = 3\n",
    "\n",
    "# constantes do problema\n"
   ]
  },
  {
   "cell_type": "markdown",
   "metadata": {},
   "source": [
    "### Discussão"
   ]
  },
  {
   "cell_type": "markdown",
   "metadata": {},
   "source": [
    "Temos nesse código um algoritmo genético o indivíduo como uma lista com todos os elementos possíveis mas tendo apenas 3 valores diferentes de 0, os genes como os elementos da lista, mas não precisamos de uma função específica para ele. "
   ]
  },
  {
   "cell_type": "markdown",
   "metadata": {},
   "source": [
    "## Conclusão\n",
    "\n"
   ]
  },
  {
   "cell_type": "markdown",
   "metadata": {},
   "source": [
    "Delete este texto e escreva sua conclusão.\n",
    "\n"
   ]
  },
  {
   "cell_type": "markdown",
   "metadata": {},
   "source": [
    "## Referências consultadas\n",
    "\n"
   ]
  },
  {
   "cell_type": "markdown",
   "metadata": {},
   "source": [
    "1.  Delete este texto e inclua suas referências ordenadas numericamente. Se for referenciar no notebook, use o número entre colchetes (exemplo: para citar essa referência aqui escreva &ldquo;[1]&rdquo; sem as áspas).\n",
    "\n",
    "2.  Cada item deve ser numerado. Siga o padrão apresentado.\n",
    "\n",
    "3.  Caso não tenha nenhuma referência consultada, delete esta seção e o texto contido nela!\n",
    "\n"
   ]
  },
  {
   "cell_type": "markdown",
   "metadata": {},
   "source": [
    "## Playground\n",
    "\n"
   ]
  },
  {
   "cell_type": "markdown",
   "metadata": {},
   "source": [
    "Todo código de teste que não faz parte do seu experimento deve vir aqui. Este código não será considerado na avaliação.\n",
    "\n"
   ]
  },
  {
   "cell_type": "code",
   "execution_count": 1,
   "metadata": {},
   "outputs": [
    {
     "ename": "IndentationError",
     "evalue": "unexpected indent (Temp/ipykernel_26256/1787318462.py, line 17)",
     "output_type": "error",
     "traceback": [
      "\u001b[1;36m  File \u001b[1;32m\"C:\\Users\\DANIEL~1\\AppData\\Local\\Temp/ipykernel_26256/1787318462.py\"\u001b[1;36m, line \u001b[1;32m17\u001b[0m\n\u001b[1;33m    while cond:\u001b[0m\n\u001b[1;37m    ^\u001b[0m\n\u001b[1;31mIndentationError\u001b[0m\u001b[1;31m:\u001b[0m unexpected indent\n"
     ]
    }
   ],
   "source": [
    "def individuo_lt(numero_genes, preco):\n",
    "    \"\"\" gera um indivíduo válido para o problema da liga ternária mais cara. \n",
    "\n",
    "    Args: \n",
    "        numero_genes: numero de genes do individuo\n",
    "\n",
    "    Return:\n",
    "        individuo: lista contendo um indivíduo dentro com 92 genes\n",
    "        \n",
    "     \"\"\"\n",
    "    \n",
    "    individuo = [0 for _ in range(len(list(preco.values())))] #cria lista de 0's  com o comprimento igual ao número de valores no dicionário preco.   \n",
    "    valor_max = 100 #aqui garantimos a soma total como 100\n",
    "    \n",
    "    for n in range(numero_genes): #se a soma não for 100 aí refaz um loop\n",
    "        cond = True\n",
    "         while cond:\n",
    "            index = random.randint(0,len(individuo)-1)\n",
    "            \n",
    "            if individuo[index] == 0:# o elemento não foi escolhido ainda               \n",
    "                gene = gene_lt(valor_maximo_massa-((numero_genes-n-1)*5)) #Nessa linha, vamos garantir que nenhum indivíduo assuma o valor de 100. O valor total que a massa pode assumir é subtraído do numero total de genes - o n (indíce) menos 1 vezes 5. Subtraímos do valor total a cada iteração\n",
    "                individuo[index] = gene\n",
    "                valor_maximo_massa -= gene\n",
    "                cond = False\n",
    "    \n",
    "    index = random.randint(0,len(individuo)-1)    \n",
    "    individuo[index] = valor_maximo_massa\n",
    "         \n",
    "    return individuo"
   ]
  },
  {
   "cell_type": "code",
   "execution_count": 2,
   "metadata": {},
   "outputs": [
    {
     "ename": "SyntaxError",
     "evalue": "invalid non-printable character U+00A0 (Temp/ipykernel_26256/2697133064.py, line 14)",
     "output_type": "error",
     "traceback": [
      "\u001b[1;36m  File \u001b[1;32m\"C:\\Users\\DANIEL~1\\AppData\\Local\\Temp/ipykernel_26256/2697133064.py\"\u001b[1;36m, line \u001b[1;32m14\u001b[0m\n\u001b[1;33m    lista_index_mae = [index for index, value in enumerate(mae) if value != 0]\u001b[0m\n\u001b[1;37m    ^\u001b[0m\n\u001b[1;31mSyntaxError\u001b[0m\u001b[1;31m:\u001b[0m invalid non-printable character U+00A0\n"
     ]
    }
   ],
   "source": [
    "def cruzamento_ordenado_lt(pai, mae, numero_genes): \n",
    "    \"\"\"Operador de cruzamento que .\n",
    "    \n",
    "    Args:\n",
    "      pai: uma lista representando um individuo\n",
    "      mae: uma lista representando um individuo\n",
    "      \n",
    "    Returns:\n",
    "      Duas listas, sendo que cada uma representa um filho dos pais que foram os\n",
    "      argumentos. \n",
    "    \"\"\"\n",
    "    \n",
    "    lista_index_pai = [index for index, value in enumerate(pai) if value != 0]\n",
    "    lista_index_mae = [index for index, value in enumerate(mae) if value != 0]\n",
    "\n",
    " \n",
    "\n",
    "    filho1, filho2 = np.zeros(len(preco.values())),np.zeros(len(preco.values()))\n",
    "\n",
    "    for _ in range(n_genes):\n",
    "        i_pai, i_mae = random.choice(lista_index_pai),random.choice(lista_index_mae)\n",
    "        filho1[i_pai] = mae[i_mae]\n",
    "        filho2[i_mae] = pai[i_pai]\n",
    "\n",
    "    return filho1, filho2"
   ]
  },
  {
   "cell_type": "code",
   "execution_count": null,
   "metadata": {},
   "outputs": [],
   "source": [
    "cruzamento_ordenado_lt()\n",
    "gerar um index aleatrorio e para ele gerar um valor aleatório de gene. se o gene gerado for maior que o gene anterior = outro gene menos a dif dos dois. caso contrario ele soma a diferença"
   ]
  },
  {
   "cell_type": "code",
   "execution_count": null,
   "metadata": {},
   "outputs": [],
   "source": [
    "\n",
    "# Definir lista index com enumerate\n",
    "\n",
    "index_aleatorio = random.choice(lista_index)\n",
    "gene_novo = gene_lt() # Qual vai ser o valor máximo?\n",
    "gene_anterior = individuo[index_aleatorio] \n",
    "\n",
    "individuo[index_aleatorio] = gene_novo\n",
    "\n",
    "# Fazer alguma coisa aqui para testar se todos os genes terão mais que 5 gramas\n",
    "\n",
    "while True:\n",
    "    \n",
    "    # Deve ser um index que seja diferente de index aleatorio\n",
    "    # Dá p simplesmente fazer um pop da lista_index\n",
    "\n",
    "    index_aleatorio_2 =\n",
    "    \n",
    "    if gene_novo >= gene_anterior:\n",
    "        individuo[index_aleatorio_2] -= gene_novo-gene_anterior\n",
    "    else:\n",
    "        individuo[index_aleatorio_2] += gene_anterior-gene_novo"
   ]
  }
 ],
 "metadata": {
  "kernelspec": {
   "display_name": "ilumpy",
   "language": "python",
   "name": "ilumpy"
  },
  "language_info": {
   "codemirror_mode": {
    "name": "ipython",
    "version": 3
   },
   "file_extension": ".py",
   "mimetype": "text/x-python",
   "name": "python",
   "nbconvert_exporter": "python",
   "pygments_lexer": "ipython3",
   "version": "3.9.7"
  },
  "org": null
 },
 "nbformat": 4,
 "nbformat_minor": 4
}
