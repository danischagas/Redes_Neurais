{
 "cells": [
  {
   "cell_type": "markdown",
   "metadata": {},
   "source": [
    "Problema das caixas não-binárias\n",
    "================================\n",
    "\n"
   ]
  },
  {
   "cell_type": "markdown",
   "metadata": {},
   "source": [
    "## Objetivo\n",
    "\n"
   ]
  },
  {
   "cell_type": "markdown",
   "metadata": {},
   "source": [
    "Encontrar uma solução para o problema das caixas não-binárias usando um algoritmo genético. Considere 4 caixas. Considere que cada caixa pode ter um valor inteiro dentro do conjunto [0, 100].\n",
    "\n"
   ]
  },
  {
   "cell_type": "markdown",
   "metadata": {},
   "source": [
    "## Descrição do problema\n",
    "\n"
   ]
  },
  {
   "cell_type": "markdown",
   "metadata": {},
   "source": [
    "O problema das caixas não-binárias é simples: nós temos um certo número de caixas e cada uma pode conter um número inteiro. O objetivo é encontrar uma combinação de caixas onde a soma dos valores contidos dentro delas é máximo.\n",
    "\n"
   ]
  },
  {
   "cell_type": "markdown",
   "metadata": {},
   "source": [
    "## Importações\n",
    "\n"
   ]
  },
  {
   "cell_type": "code",
   "execution_count": 1,
   "metadata": {},
   "outputs": [],
   "source": [
    "from funcoes import populacao_cnb\n",
    "from funcoes import funcao_objetivo_pop_cnb as funcao_objetivo_pop\n",
    "from funcoes import selecao_roleta_max as funcao_selecao\n",
    "from funcoes import cruzamento_ponto_simples as funcao_cruzamento\n",
    "from funcoes import mutacao_cnb\n",
    "import random"
   ]
  },
  {
   "cell_type": "markdown",
   "metadata": {},
   "source": [
    "## Códigos e discussão\n",
    "\n"
   ]
  },
  {
   "cell_type": "code",
   "execution_count": 2,
   "metadata": {},
   "outputs": [],
   "source": [
    "# Constantes\n",
    "\n",
    "TAMANHO_POPULACAO = 20\n",
    "NUM_GERACOES = 3\n",
    "CHANCE_CRUZAMENTO = 0.5\n",
    "CHANCE_MUTACAO = 0.01\n",
    "\n",
    "#constantes específicas do problema\n",
    "VALOR_MAX_CAIXA = 100\n",
    "NUM_GENES = 4"
   ]
  },
  {
   "cell_type": "code",
   "execution_count": 3,
   "metadata": {},
   "outputs": [],
   "source": [
    "def cria_populacao_inicial(tamanho, n_genes):\n",
    "    return populacao_cnb(tamanho, n_genes, VALOR_MAX_CAIXA)\n",
    "\n",
    "def funcao_mutacao(individuo):\n",
    "    return mutacao_cnb(individuo, VALOR_MAX_CAIXA)"
   ]
  },
  {
   "cell_type": "code",
   "execution_count": 4,
   "metadata": {},
   "outputs": [
    {
     "name": "stdout",
     "output_type": "stream",
     "text": [
      "População inicial:\n",
      "[[94, 92, 68, 0], [84, 33, 58, 53], [79, 46, 63, 58], [100, 46, 0, 64], [12, 4, 15, 63], [44, 71, 6, 56], [20, 85, 17, 36], [9, 43, 60, 70], [54, 26, 72, 7], [47, 20, 58, 74], [100, 84, 53, 1], [39, 37, 40, 88], [31, 59, 80, 39], [41, 44, 5, 66], [70, 68, 70, 42], [48, 28, 97, 81], [28, 24, 21, 88], [76, 59, 26, 32], [26, 88, 37, 8], [65, 59, 33, 25]]\n",
      "\n",
      "[[48, 28, 97, 81], [9, 43, 60, 70], [100, 84, 53, 1], [31, 59, 80, 39], [100, 84, 53, 1], [76, 59, 26, 32], [84, 33, 58, 0], [94, 92, 68, 53], [26, 28, 97, 81], [48, 88, 37, 8], [12, 4, 15, 63], [70, 68, 70, 42], [100, 84, 53, 1], [44, 71, 6, 56], [70, 68, 70, 42], [26, 88, 37, 8], [26, 88, 37, 8], [9, 43, 60, 70], [20, 85, 15, 63], [12, 4, 17, 36]]\n",
      "\n",
      "[[100, 84, 53, 1], [44, 71, 6, 56], [48, 88, 37, 8], [70, 68, 70, 42], [26, 88, 37, 8], [70, 68, 70, 42], [84, 33, 58, 0], [70, 68, 70, 42], [70, 68, 60, 70], [9, 43, 70, 42], [76, 59, 26, 32], [26, 88, 37, 8], [26, 88, 37, 8], [100, 84, 53, 1], [20, 85, 15, 63], [100, 84, 53, 1], [100, 84, 53, 1], [31, 59, 80, 39], [12, 4, 15, 63], [12, 4, 15, 63]]\n",
      "\n",
      "[[70, 68, 70, 42], [70, 68, 70, 42], [100, 84, 53, 63], [12, 4, 15, 1], [70, 68, 60, 8], [26, 88, 37, 70], [100, 84, 53, 42], [70, 68, 70, 1], [100, 84, 53, 1], [100, 84, 53, 1], [70, 68, 60, 42], [70, 68, 70, 70], [48, 88, 37, 8], [100, 84, 53, 1], [100, 84, 53, 1], [100, 84, 53, 1], [31, 59, 53, 1], [100, 84, 80, 39], [84, 33, 58, 0], [100, 84, 53, 1]]\n",
      "\n",
      "População final:\n",
      "[[70, 68, 70, 42], [70, 68, 70, 42], [100, 84, 53, 63], [12, 4, 15, 1], [70, 68, 60, 8], [26, 88, 37, 70], [100, 84, 53, 42], [70, 68, 70, 1], [100, 84, 53, 1], [100, 84, 53, 1], [70, 68, 60, 42], [70, 68, 70, 70], [48, 88, 37, 8], [100, 84, 53, 1], [100, 84, 53, 1], [100, 84, 53, 1], [31, 59, 53, 1], [100, 84, 80, 39], [84, 33, 58, 0], [100, 84, 53, 1]]\n"
     ]
    }
   ],
   "source": [
    "populacao = cria_populacao_inicial(TAMANHO_POPULACAO, NUM_GENES)\n",
    "\n",
    "print(\"População inicial:\")\n",
    "print(populacao)\n",
    "                                   \n",
    "for n in range(NUM_GERACOES):    \n",
    "    \n",
    "    # Seleção\n",
    "    fitness = funcao_objetivo_pop(populacao)\n",
    "    populacao = funcao_selecao(populacao, fitness)\n",
    "    \n",
    "    # Cruzamento\n",
    "    pais = populacao[0::2]\n",
    "    maes = populacao[1::2]\n",
    "    \n",
    "    contador = 0\n",
    "    \n",
    "    for pai, mae in zip(pais, maes):\n",
    "        if random.random() <= CHANCE_CRUZAMENTO:\n",
    "            filho1, filho2 = funcao_cruzamento(pai, mae)\n",
    "            populacao[contador] = filho1\n",
    "            populacao[contador + 1] = filho2\n",
    "        \n",
    "        contador = contador + 2   \n",
    "            \n",
    "    print()\n",
    "    print(populacao)\n",
    "    \n",
    "    # Mutação\n",
    "    for n in range(len(populacao)):\n",
    "        if random.random() <= CHANCE_MUTACAO:\n",
    "            individuo = populacao[n]\n",
    "            populacao[n] = funcao_mutacao(individuo)            \n",
    "\n",
    "print()\n",
    "print(\"População final:\")\n",
    "print(populacao)"
   ]
  },
  {
   "cell_type": "markdown",
   "metadata": {},
   "source": [
    "## Conclusão\n",
    "\n"
   ]
  },
  {
   "cell_type": "markdown",
   "metadata": {},
   "source": [
    "Com esse algpritmo resolvemos o problema de caixas não binárias utilizando algoritmos genéticos. A resolução foi relativamente parecida com a resolução do experimento A.03, mas tivemos que mudar algumas funções ao longo do caminho. Algumas delas escrevemos de forma mais geral no funções.py e algumas modificamos a partir do mesmo conceito na aula anterior, por exemplo, a função de população da caixa não binária foi feita a partir de incrementações na função de população das caixa binárias, o mesmo ocorreu para as função de mutação e fitness. Isso demonstra a ideia de que a base dos códigos para aplicar os algoritmos genéticos é a mesma, apesar de cada problema ter sua particularidade. Então, esse também é um problema de maximização, já que queremos a maior soma possível dos genes dentro de cada caixa/indivíduo.  \n",
    "\n",
    "Depois de implementar o código e testá-lo, percebi que os números da população final estavam todos iguais e logo pensei que era erro no código. Discutindo com pessoas que tiveram o mesmo erro e com alguns glias, eu percebi que o \"erro\" na verdade vinha do valor das constantes que eu utilizei. Por ser uma população muito pequena e um número de gerações relativamente alto, através dos cruzamentos, crossing over e da seleção, os indivíduos estavam convergindo para se tornar a mesma coisa. Isso fica mais didático de entender quando pensamos no crossing over, vamos considerar dois indivíduos quaisquers: aaAA e AAaa, se eles forem divididos no meio para formarem sua prole de dois filhos teremos aaAA e AAaa, ou seja, indivíduos iguais aos pais. Dessa forma, fica interessante de pensar que para uma população pequena, a chance dos indivíduos formarem outros individuos iguais é grande e isso aliado a mutação faz com que os individuos convirjam para o mesmo valor. \n",
    "\n",
    "Dessa forma, é interessante ver a forma com que podemos resolver esse problema através de algoritmos genéticos, e a ação da seleção, cruzamento e mutação.  "
   ]
  },
  {
   "cell_type": "markdown",
   "metadata": {},
   "source": [
    "## Playground\n",
    "\n"
   ]
  },
  {
   "cell_type": "code",
   "execution_count": null,
   "metadata": {},
   "outputs": [],
   "source": []
  }
 ],
 "metadata": {
  "kernelspec": {
   "display_name": "ilumpy",
   "language": "python",
   "name": "ilumpy"
  },
  "language_info": {
   "codemirror_mode": {
    "name": "ipython",
    "version": 3
   },
   "file_extension": ".py",
   "mimetype": "text/x-python",
   "name": "python",
   "nbconvert_exporter": "python",
   "pygments_lexer": "ipython3",
   "version": "3.9.7"
  },
  "org": null
 },
 "nbformat": 4,
 "nbformat_minor": 4
}
