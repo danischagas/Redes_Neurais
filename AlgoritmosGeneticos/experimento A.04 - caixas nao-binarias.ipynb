{
 "cells": [
  {
   "cell_type": "markdown",
   "metadata": {},
   "source": [
    "Problema das caixas não-binárias\n",
    "================================\n",
    "\n"
   ]
  },
  {
   "cell_type": "markdown",
   "metadata": {},
   "source": [
    "## Objetivo\n",
    "\n"
   ]
  },
  {
   "cell_type": "markdown",
   "metadata": {},
   "source": [
    "Encontrar uma solução para o problema das caixas não-binárias usando um algoritmo genético. Considere 4 caixas. Considere que cada caixa pode ter um valor inteiro dentro do conjunto [0, 100].\n",
    "\n"
   ]
  },
  {
   "cell_type": "markdown",
   "metadata": {},
   "source": [
    "## Descrição do problema\n",
    "\n"
   ]
  },
  {
   "cell_type": "markdown",
   "metadata": {},
   "source": [
    "O problema das caixas não-binárias é simples: nós temos um certo número de caixas e cada uma pode conter um número inteiro. O objetivo é encontrar uma combinação de caixas onde a soma dos valores contidos dentro delas é máximo.\n",
    "\n"
   ]
  },
  {
   "cell_type": "markdown",
   "metadata": {},
   "source": [
    "## Importações\n",
    "\n"
   ]
  },
  {
   "cell_type": "code",
   "execution_count": 6,
   "metadata": {},
   "outputs": [],
   "source": [
    "from funcoes import populacao_cnb\n",
    "from funcoes import funcao_objetivo_pop_cnb as funcao_objetivo_pop\n",
    "from funcoes import selecao_roleta_max as funcao_selecao\n",
    "from funcoes import cruzamento_ponto_simples as funcao_cruzamento\n",
    "from funcoes import mutacao_cnb\n",
    "import random"
   ]
  },
  {
   "cell_type": "markdown",
   "metadata": {},
   "source": [
    "## Códigos e discussão\n",
    "\n"
   ]
  },
  {
   "cell_type": "code",
   "execution_count": 7,
   "metadata": {},
   "outputs": [],
   "source": [
    "# Constantes\n",
    "\n",
    "TAMANHO_POPULACAO = 20\n",
    "NUM_GERACOES = 3\n",
    "CHANCE_CRUZAMENTO = 0.5\n",
    "CHANCE_MUTACAO = 0.01\n",
    "\n",
    "#constantes específicas do problema\n",
    "VALOR_MAX_CAIXA = 100\n",
    "NUM_GENES = 4"
   ]
  },
  {
   "cell_type": "code",
   "execution_count": 8,
   "metadata": {},
   "outputs": [],
   "source": [
    "def cria_populacao_inicial(tamanho, n_genes):\n",
    "    return populacao_cnb(tamanho, n_genes, VALOR_MAX_CAIXA)\n",
    "\n",
    "def funcao_mutacao(individuo):\n",
    "    return mutacao_cnb(individuo, VALOR_MAX_CAIXA)"
   ]
  },
  {
   "cell_type": "code",
   "execution_count": 9,
   "metadata": {},
   "outputs": [
    {
     "name": "stdout",
     "output_type": "stream",
     "text": [
      "População inicial:\n",
      "[[66, 1, 60, 0], [93, 77, 86, 66], [26, 86, 41, 98], [32, 12, 99, 32], [84, 34, 16, 7], [36, 81, 15, 1], [92, 50, 29, 62], [61, 80, 99, 54], [51, 99, 97, 28], [60, 75, 1, 20], [28, 51, 87, 31], [78, 0, 58, 25], [58, 96, 50, 51], [62, 55, 14, 39], [38, 2, 57, 51], [79, 53, 21, 98], [1, 22, 85, 65], [63, 34, 61, 78], [11, 4, 29, 81], [53, 91, 33, 52]]\n",
      "\n",
      "[[38, 2, 57, 51], [38, 2, 57, 51], [79, 53, 21, 98], [78, 0, 58, 25], [51, 99, 97, 28], [58, 96, 50, 51], [66, 1, 60, 0], [38, 2, 57, 51], [58, 96, 50, 51], [58, 96, 50, 51], [61, 80, 99, 54], [84, 34, 16, 7], [38, 2, 57, 51], [93, 77, 86, 66], [32, 12, 99, 51], [58, 96, 50, 32], [58, 4, 29, 81], [11, 96, 50, 51], [60, 75, 1, 1], [36, 81, 15, 20]]\n",
      "\n",
      "[[38, 2, 99, 54], [61, 80, 57, 51], [93, 77, 86, 66], [58, 96, 50, 51], [61, 80, 99, 54], [61, 80, 99, 54], [11, 96, 50, 51], [61, 80, 99, 54], [38, 2, 57, 51], [51, 99, 97, 28], [58, 96, 50, 51], [58, 4, 29, 81], [84, 34, 16, 7], [84, 34, 16, 7], [61, 80, 99, 54], [58, 96, 50, 51], [61, 80, 99, 54], [78, 0, 58, 25], [58, 96, 50, 32], [84, 34, 16, 7]]\n",
      "\n",
      "[[58, 100, 50, 32], [11, 96, 50, 51], [61, 80, 99, 51], [58, 96, 50, 54], [38, 2, 50, 51], [11, 96, 99, 54], [61, 80, 99, 54], [61, 80, 57, 51], [61, 80, 99, 54], [61, 80, 57, 51], [93, 77, 86, 66], [61, 80, 99, 54], [78, 0, 58, 25], [61, 80, 99, 54], [61, 80, 99, 54], [61, 80, 99, 54], [61, 80, 99, 54], [61, 80, 99, 54], [61, 96, 50, 51], [11, 80, 99, 54]]\n",
      "\n",
      "População final:\n",
      "[[58, 100, 50, 32], [11, 96, 50, 51], [61, 80, 99, 51], [58, 96, 50, 54], [38, 2, 50, 51], [11, 96, 99, 54], [61, 80, 99, 54], [61, 80, 57, 51], [61, 80, 99, 54], [61, 80, 57, 51], [93, 77, 86, 66], [61, 80, 99, 54], [78, 0, 58, 25], [61, 80, 99, 54], [61, 80, 99, 54], [61, 80, 99, 54], [61, 80, 99, 54], [61, 80, 99, 54], [61, 96, 50, 51], [11, 80, 99, 54]]\n"
     ]
    }
   ],
   "source": [
    "populacao = cria_populacao_inicial(TAMANHO_POPULACAO, NUM_GENES)\n",
    "\n",
    "print(\"População inicial:\")\n",
    "print(populacao)\n",
    "                                   \n",
    "for n in range(NUM_GERACOES):    \n",
    "    \n",
    "    # Seleção\n",
    "    fitness = funcao_objetivo_pop(populacao)\n",
    "    populacao = funcao_selecao(populacao, fitness)\n",
    "    \n",
    "    # Cruzamento\n",
    "    pais = populacao[0::2]\n",
    "    maes = populacao[1::2]\n",
    "    \n",
    "    contador = 0\n",
    "    \n",
    "    for pai, mae in zip(pais, maes):\n",
    "        if random.random() <= CHANCE_CRUZAMENTO:\n",
    "            filho1, filho2 = funcao_cruzamento(pai, mae)\n",
    "            populacao[contador] = filho1\n",
    "            populacao[contador + 1] = filho2\n",
    "        \n",
    "        contador = contador + 2   \n",
    "            \n",
    "    print()\n",
    "    print(populacao)\n",
    "    \n",
    "    # Mutação\n",
    "    for n in range(len(populacao)):\n",
    "        if random.random() <= CHANCE_MUTACAO:\n",
    "            individuo = populacao[n]\n",
    "            populacao[n] = funcao_mutacao(individuo)            \n",
    "\n",
    "print()\n",
    "print(\"População final:\")\n",
    "print(populacao)"
   ]
  },
  {
   "cell_type": "markdown",
   "metadata": {},
   "source": [
    "---------"
   ]
  },
  {
   "cell_type": "markdown",
   "metadata": {
    "tags": []
   },
   "source": [
    "### Discussão"
   ]
  },
  {
   "cell_type": "markdown",
   "metadata": {},
   "source": [
    "Nesse experimento, temos um problema parecido com o das caixas binárias mas temos que os genes não assumem apenas o valor de 0 ou 1, podem assumir qualquer valor de acordo com seu problema. Então, criamos uma função de genes que cumpre a condição do problema e nesse caso pode assumir um valor de 0 a 100. O indivíduo agora utiliza essa função e a função da população armazena todos os indivíduos. A função objetivo é a soma dos genes do indivíduo, uma vez que o que queremos é o indivíduo cuja soma dos genes da caixa seja a maior possível. A função de seleção utilizamos a roleta de maximização, assim como na caixa binária. Na de mutação, é criado um novo gene e usamos ele para substituir o gene em um índice aleatório. Esse é um modo possível de implementar os algoritmos genéticos para o problema de caixas não binárias, com o objetivo de maximizar o problema. "
   ]
  },
  {
   "cell_type": "markdown",
   "metadata": {},
   "source": [
    "-----------------"
   ]
  },
  {
   "cell_type": "markdown",
   "metadata": {},
   "source": [
    "## Conclusão\n",
    "\n"
   ]
  },
  {
   "cell_type": "markdown",
   "metadata": {},
   "source": [
    "Com esse algoritmo resolvemos o problema de caixas não binárias utilizando algoritmos genéticos. A resolução foi relativamente parecida com a resolução do experimento A.03, mas tivemos que mudar algumas funções ao longo do caminho. Algumas delas escrevemos de forma mais geral no funções.py e algumas modificamos a partir do mesmo conceito na aula anterior, por exemplo, a função de população da caixa não binária foi feita a partir de incrementações na função de população das caixa binárias, o mesmo ocorreu para as função de mutação e fitness. Isso demonstra a ideia de que a base dos códigos para aplicar os algoritmos genéticos é a mesma, apesar de cada problema ter sua particularidade. Então, esse também é um problema de maximização, já que queremos a maior soma possível dos genes dentro de cada caixa/indivíduo.  \n",
    "\n",
    "Depois de implementar o código e testá-lo, percebi que os números da população final estavam todos iguais e logo pensei que era erro no código. Discutindo com pessoas que tiveram o mesmo erro e com alguns glias, eu percebi que o \"erro\" na verdade vinha do valor das constantes que eu utilizei. Por ser uma população muito pequena e um número de gerações relativamente alto, através dos cruzamentos, crossing over e da seleção, os indivíduos estavam convergindo para se tornar a mesma coisa. Isso fica mais didático de entender quando pensamos no crossing over, vamos considerar dois indivíduos quaisquers: aaAA e AAaa, se eles forem divididos no meio para formarem sua prole de dois filhos teremos aaAA e AAaa, ou seja, indivíduos iguais aos pais. Dessa forma, fica interessante de pensar que para uma população pequena, a chance dos indivíduos formarem outros individuos iguais é grande e isso aliado a mutação faz com que os individuos convirjam para o mesmo valor. \n",
    "\n",
    "Dessa forma, é interessante ver a forma com que podemos resolver esse problema através de algoritmos genéticos, e a ação da seleção, cruzamento e mutação.  "
   ]
  },
  {
   "cell_type": "markdown",
   "metadata": {},
   "source": [
    "## Playground\n",
    "\n"
   ]
  },
  {
   "cell_type": "code",
   "execution_count": null,
   "metadata": {},
   "outputs": [],
   "source": []
  }
 ],
 "metadata": {
  "kernelspec": {
   "display_name": "ilumpy",
   "language": "python",
   "name": "ilumpy"
  },
  "language_info": {
   "codemirror_mode": {
    "name": "ipython",
    "version": 3
   },
   "file_extension": ".py",
   "mimetype": "text/x-python",
   "name": "python",
   "nbconvert_exporter": "python",
   "pygments_lexer": "ipython3",
   "version": "3.9.7"
  },
  "org": null
 },
 "nbformat": 4,
 "nbformat_minor": 4
}
