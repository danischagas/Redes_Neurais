{
 "cells": [
  {
   "cell_type": "markdown",
   "metadata": {},
   "source": [
    "Problema das caixas não-binárias\n",
    "================================\n",
    "\n"
   ]
  },
  {
   "cell_type": "markdown",
   "metadata": {},
   "source": [
    "## Objetivo\n",
    "\n"
   ]
  },
  {
   "cell_type": "markdown",
   "metadata": {},
   "source": [
    "Encontrar uma solução para o problema das caixas não-binárias usando um algoritmo genético. Considere 4 caixas. Considere que cada caixa pode ter um valor inteiro dentro do conjunto [0, 100].\n",
    "\n"
   ]
  },
  {
   "cell_type": "markdown",
   "metadata": {},
   "source": [
    "## Descrição do problema\n",
    "\n"
   ]
  },
  {
   "cell_type": "markdown",
   "metadata": {},
   "source": [
    "O problema das caixas não-binárias é simples: nós temos um certo número de caixas e cada uma pode conter um número inteiro. O objetivo é encontrar uma combinação de caixas onde a soma dos valores contidos dentro delas é máximo.\n",
    "\n"
   ]
  },
  {
   "cell_type": "markdown",
   "metadata": {},
   "source": [
    "## Importações\n",
    "\n"
   ]
  },
  {
   "cell_type": "code",
   "execution_count": 1,
   "metadata": {},
   "outputs": [],
   "source": [
    "from funcoes import populacao_cnb\n",
    "from funcoes import funcao_objetivo_pop_cnb as funcao_objetivo_pop\n",
    "from funcoes import selecao_roleta_max as funcao_selecao\n",
    "from funcoes import cruzamento_ponto_simples as funcao_cruzamento\n",
    "from funcoes import mutacao_cnb\n",
    "import random"
   ]
  },
  {
   "cell_type": "markdown",
   "metadata": {},
   "source": [
    "## Códigos e discussão\n",
    "\n"
   ]
  },
  {
   "cell_type": "code",
   "execution_count": 2,
   "metadata": {},
   "outputs": [],
   "source": [
    "# Constantes\n",
    "\n",
    "TAMANHO_POPULACAO = 20\n",
    "NUM_GERACOES = 3\n",
    "CHANCE_CRUZAMENTO = 0.5\n",
    "CHANCE_MUTACAO = 0.01\n",
    "\n",
    "#constantes específicas do problema\n",
    "VALOR_MAX_CAIXA = 100\n",
    "NUM_GENES = 4"
   ]
  },
  {
   "cell_type": "code",
   "execution_count": 3,
   "metadata": {},
   "outputs": [],
   "source": [
    "def cria_populacao_inicial(tamanho, n_genes):\n",
    "    return populacao_cnb(tamanho, n_genes, VALOR_MAX_CAIXA)\n",
    "\n",
    "def funcao_mutacao(individuo):\n",
    "    return mutacao_cnb(individuo, VALOR_MAX_CAIXA)"
   ]
  },
  {
   "cell_type": "code",
   "execution_count": 4,
   "metadata": {},
   "outputs": [
    {
     "name": "stdout",
     "output_type": "stream",
     "text": [
      "População inicial:\n",
      "[[61, 85, 54, 27], [7, 85, 93, 45], [91, 93, 90, 67], [9, 17, 67, 62], [98, 14, 70, 62], [25, 34, 73, 91], [90, 38, 20, 88], [8, 75, 71, 75], [44, 13, 75, 8], [85, 84, 72, 84], [59, 35, 45, 59], [16, 50, 44, 24], [73, 63, 47, 51], [67, 95, 24, 42], [75, 93, 97, 84], [29, 77, 58, 60], [92, 81, 29, 84], [34, 42, 29, 75], [13, 48, 5, 76], [50, 100, 85, 60]]\n",
      "\n",
      "[[92, 81, 29, 84], [67, 95, 24, 42], [7, 84, 72, 84], [85, 85, 93, 45], [73, 63, 47, 51], [67, 95, 24, 42], [73, 63, 97, 84], [75, 93, 47, 51], [92, 81, 29, 84], [16, 50, 44, 24], [85, 84, 72, 60], [50, 100, 85, 84], [75, 93, 97, 84], [91, 93, 90, 67], [59, 35, 45, 91], [25, 34, 73, 59], [67, 75, 71, 75], [8, 95, 24, 42], [90, 38, 67, 62], [9, 17, 20, 88]]\n",
      "\n",
      "[[85, 63, 47, 51], [73, 84, 72, 60], [90, 38, 97, 84], [75, 93, 67, 62], [59, 81, 29, 84], [92, 35, 45, 91], [90, 38, 67, 62], [92, 81, 29, 84], [91, 63, 47, 51], [73, 93, 90, 67], [91, 17, 20, 88], [9, 93, 90, 67], [75, 93, 97, 84], [73, 63, 97, 84], [59, 35, 45, 91], [67, 95, 24, 42], [91, 93, 90, 67], [85, 85, 93, 45], [92, 81, 29, 84], [75, 93, 97, 84]]\n",
      "\n",
      "[[91, 63, 47, 51], [75, 93, 97, 84], [59, 81, 29, 84], [59, 81, 29, 84], [73, 93, 90, 67], [75, 93, 97, 84], [73, 93, 90, 67], [75, 93, 97, 84], [9, 93, 47, 51], [85, 63, 90, 67], [90, 38, 67, 62], [91, 17, 20, 88], [75, 93, 67, 62], [92, 81, 29, 84], [75, 35, 45, 91], [92, 93, 67, 62], [92, 93, 90, 67], [9, 81, 29, 84], [90, 38, 67, 62], [91, 93, 90, 67]]\n",
      "\n",
      "População final:\n",
      "[[91, 63, 47, 51], [75, 93, 97, 84], [59, 81, 29, 84], [59, 81, 29, 84], [73, 93, 90, 67], [75, 93, 97, 84], [73, 93, 90, 67], [75, 93, 97, 84], [9, 93, 47, 51], [85, 63, 90, 67], [90, 38, 67, 62], [91, 17, 20, 88], [75, 93, 67, 62], [92, 81, 29, 84], [75, 35, 45, 91], [92, 93, 67, 62], [92, 93, 90, 67], [9, 81, 29, 84], [90, 38, 67, 62], [91, 93, 90, 67]]\n"
     ]
    }
   ],
   "source": [
    "populacao = cria_populacao_inicial(TAMANHO_POPULACAO, NUM_GENES)\n",
    "\n",
    "print(\"População inicial:\")\n",
    "print(populacao)\n",
    "                                   \n",
    "for n in range(NUM_GERACOES):    \n",
    "    \n",
    "    # Seleção\n",
    "    fitness = funcao_objetivo_pop(populacao)\n",
    "    populacao = funcao_selecao(populacao, fitness)\n",
    "    \n",
    "    # Cruzamento\n",
    "    pais = populacao[0::2]\n",
    "    maes = populacao[1::2]\n",
    "    \n",
    "    contador = 0\n",
    "    \n",
    "    for pai, mae in zip(pais, maes):\n",
    "        if random.random() <= CHANCE_CRUZAMENTO:\n",
    "            filho1, filho2 = funcao_cruzamento(pai, mae)\n",
    "            populacao[contador] = filho1\n",
    "            populacao[contador + 1] = filho2\n",
    "        \n",
    "        contador = contador + 2   \n",
    "            \n",
    "    print()\n",
    "    print(populacao)\n",
    "    \n",
    "    # Mutação\n",
    "    for n in range(len(populacao)):\n",
    "        if random.random() <= CHANCE_MUTACAO:\n",
    "            individuo = populacao[n]\n",
    "            populacao[n] = funcao_mutacao(individuo)            \n",
    "\n",
    "print()\n",
    "print(\"População final:\")\n",
    "print(populacao)"
   ]
  },
  {
   "cell_type": "markdown",
   "metadata": {},
   "source": [
    "## Conclusão\n",
    "\n"
   ]
  },
  {
   "cell_type": "markdown",
   "metadata": {},
   "source": [
    "Com esse algpritmo resolvemos o problema de caixas não binárias utilizando algoritmos genéticos. A resolução foi relativamente parecida com a resolução do experimento A.03, mas tivemos que mudar algumas funções ao longo do caminho. Algumas delas escrevemos de forma mais geral no funções.py e algumas modificamos a partir do mesmo conceito na aula anterior, por exemplo, a função de população da caixa não binária foi feita a partir de incrementações na função de população das caixa binárias, o mesmo ocorreu para as função de mutação e fitness. Isso demonstra a ideia de que a base dos códigos para aplicar os algoritmos genéticos é a mesma, apesar de cada problema ter sua particularidade. Então, esse também é um problema de maximização, já que queremos a maior soma possível dos genes dentro de cada caixa/indivíduo.  \n",
    "\n",
    "Depois de implementar o código e testá-lo, percebi que os números da população final estavam todos iguais e logo pensei que era erro no código. Discutindo com pessoas que tiveram o mesmo erro e com alguns glias, eu percebi que o \"erro\" na verdade vinha do valor das constantes que eu utilizei. Por ser uma população muito pequena e um número de gerações relativamente alto, através dos cruzamentos, crossing over e da seleção, os indivíduos estavam convergindo para se tornar a mesma coisa. Isso fica mais didático de entender quando pensamos no crossing over, vamos considerar dois indivíduos quaisquers: aaAA e AAaa, se eles forem divididos no meio para formarem sua prole de dois filhos teremos aaAA e AAaa, ou seja, indivíduos iguais aos pais. Dessa forma, fica interessante de pensar que para uma população pequena, a chance dos indivíduos formarem outros individuos iguais é grande e isso aliado a mutação faz com que os individuos convirjam para o mesmo valor. \n",
    "\n",
    "Dessa forma, é interessante ver a forma com que podemos resolver esse problema através de algoritmos genéticos, e a ação da seleção, cruzamento e mutação.  "
   ]
  },
  {
   "cell_type": "markdown",
   "metadata": {},
   "source": [
    "## Playground\n",
    "\n"
   ]
  },
  {
   "cell_type": "code",
   "execution_count": null,
   "metadata": {},
   "outputs": [],
   "source": []
  }
 ],
 "metadata": {
  "kernelspec": {
   "display_name": "ilumpy",
   "language": "python",
   "name": "ilumpy"
  },
  "language_info": {
   "codemirror_mode": {
    "name": "ipython",
    "version": 3
   },
   "file_extension": ".py",
   "mimetype": "text/x-python",
   "name": "python",
   "nbconvert_exporter": "python",
   "pygments_lexer": "ipython3",
   "version": "3.9.7"
  },
  "org": null
 },
 "nbformat": 4,
 "nbformat_minor": 4
}
