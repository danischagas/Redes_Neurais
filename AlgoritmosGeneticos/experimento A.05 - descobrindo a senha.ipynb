{
 "cells": [
  {
   "cell_type": "markdown",
   "metadata": {},
   "source": [
    "Descobrindo a senha\n",
    "===================\n",
    "\n"
   ]
  },
  {
   "cell_type": "markdown",
   "metadata": {},
   "source": [
    "## Objetivo\n",
    "\n"
   ]
  },
  {
   "cell_type": "markdown",
   "metadata": {},
   "source": [
    "Usar um algoritmo genético para descobrir uma senha.\n",
    "\n"
   ]
  },
  {
   "cell_type": "markdown",
   "metadata": {},
   "source": [
    "## Descrição do problema\n",
    "\n"
   ]
  },
  {
   "cell_type": "markdown",
   "metadata": {},
   "source": [
    "Neste problema, a função objetivo deve saber a senha correta e quantificar de alguma maneira o quão perto ou longe os palpites estão da solução (veja que isso é algo que não temos no mundo real. Nenhum site irá te dizer se você está acertando ou errando seu palpite). O critério de parada deste problema é quando a senha for descoberta.\n",
    "\n"
   ]
  },
  {
   "cell_type": "markdown",
   "metadata": {},
   "source": [
    "## Importações\n",
    "\n"
   ]
  },
  {
   "cell_type": "code",
   "execution_count": 1,
   "metadata": {},
   "outputs": [],
   "source": [
    "from funcoes import populacao_inicial_senha\n",
    "from funcoes import funcao_objetivo_pop_senha\n",
    "from funcoes import selecao_torneio_min\n",
    "from funcoes import cruzamento_ponto_simples as funcao_cruzamento\n",
    "from funcoes import mutacao_senha\n",
    "import random"
   ]
  },
  {
   "cell_type": "markdown",
   "metadata": {},
   "source": [
    "## Códigos e discussão\n",
    "\n"
   ]
  },
  {
   "cell_type": "code",
   "execution_count": 2,
   "metadata": {},
   "outputs": [],
   "source": [
    "# constantes do problema\n",
    "\n",
    "#constantes de busca\n",
    "TAMANHO_POP = 1000\n",
    "CHANCE_CRUZAMENTO = 0.5\n",
    "CHANCE_MUTACAO = 0.05\n",
    "NUM_COMBATENTES_NO_TORNEIO = 3\n",
    "\n",
    "# constantes do problema\n",
    "SENHA = \"correcthorsebatterystaple\"\n",
    "#SENHA = \"abracadabra\"\n",
    "LETRAS_POSSIVEIS = \"abcdefghijklmnopqrstuvwxyz\"\n",
    "NUM_GENES = len(SENHA)"
   ]
  },
  {
   "cell_type": "code",
   "execution_count": 3,
   "metadata": {
    "tags": []
   },
   "outputs": [],
   "source": [
    "# funções locais\n",
    "\n",
    "def cria_populacao_inicial(tamanho, tamanho_senha):\n",
    "    return populacao_inicial_senha(tamanho, tamanho_senha, LETRAS_POSSIVEIS)\n",
    "\n",
    "def funcao_objetivo_pop(populacao):\n",
    "    return funcao_objetivo_pop_senha(populacao, SENHA)\n",
    "\n",
    "def funcao_selecao(populacao, fitness):\n",
    "    return selecao_torneio_min(populacao, fitness, NUM_COMBATENTES_NO_TORNEIO)\n",
    "\n",
    "def funcao_mutacao(individuo):\n",
    "    return mutacao_senha(individuo, LETRAS_POSSIVEIS)"
   ]
  },
  {
   "cell_type": "code",
   "execution_count": 4,
   "metadata": {},
   "outputs": [
    {
     "name": "stdout",
     "output_type": "stream",
     "text": [
      "Progresso da melhor senha já vista:\n",
      "dgvtjamfonkdkduxkamviagye - fitness: 132\n",
      "gpnqhwpnhtnfbuvnaqtyoknoe - fitness: 122\n",
      "fnpswbqgbkrdjdovbispufokd - fitness: 100\n",
      "dgvtjamfonkdkdurooyztcjgl - fitness: 99\n",
      "aqpsjhnfrqxagasylqvrtcjgl - fitness: 81\n",
      "gmqvobmfrqxagasulqvqterhd - fitness: 75\n",
      "dofmdcqmqqxagasulqvqterhg - fitness: 71\n",
      "bwrplasftqxagasulqvrvarhd - fitness: 66\n",
      "dpstccqmqqxagasulqvqterhd - fitness: 58\n",
      "aqpslcsmqurchasulqvqtcokd - fitness: 54\n",
      "fnwrffqervqefbsulqvrtcokd - fitness: 52\n",
      "dpstccqervqefbsuaqtytcokd - fitness: 50\n",
      "fnpsccqfrqsdbduziqvrtcokd - fitness: 43\n",
      "dpstccqmqqqefbsufqvrtcokd - fitness: 38\n",
      "fnpsccqfrqsdbbxvfqvrtcokd - fitness: 37\n",
      "apstdcqmrqsdbasucqvqtcokd - fitness: 35\n",
      "doqrferjotwedasvfqvrtcokd - fitness: 31\n",
      "dpssccqfrqsdbasufqvrtcokd - fitness: 29\n",
      "doqrferjoqsdbasuaqyttcokd - fitness: 24\n",
      "doqrfcqfqqsdbasugrzstcokd - fitness: 22\n",
      "doqrferjoqsdbasufqzstcokd - fitness: 21\n",
      "doqrfcrjoqsdbasufqzstcokd - fitness: 19\n",
      "doqrfcugoqsdbasugrzstcokd - fitness: 17\n",
      "dorrfcsjoqsdbasufrzstcokd - fitness: 16\n",
      "boqrecsgoqsdbasufrystcokd - fitness: 14\n",
      "dorrfcugoqsdbasuerystcokd - fitness: 13\n",
      "dorrecugoqsdbasuerystcokd - fitness: 12\n",
      "dorrecugoqsdbasuerystcold - fitness: 11\n",
      "dorrecugoqsdbasuerystcole - fitness: 10\n",
      "dorrectjoqsdbasuerystaoke - fitness: 9\n",
      "dorrectgoqsdbasuerystaoke - fitness: 8\n",
      "dorrectgoqsebasuerystaoke - fitness: 7\n",
      "dorrectgoqsebasterystaoke - fitness: 6\n",
      "dorrectgorsdbatuerystaole - fitness: 5\n",
      "dorrecuhorsebatuerystaole - fitness: 4\n",
      "dorrectgorsebatterystaole - fitness: 3\n",
      "correcthorsebasterystaole - fitness: 2\n",
      "correcthorsebatterystaole - fitness: 1\n",
      "correcthorsebatterystaple - fitness: 0\n",
      "\n",
      "Após 39 gerações, a senha encontrada foi:\n",
      "Melhor palpite da senha encontrado:\n",
      "correcthorsebatterystaple\n"
     ]
    }
   ],
   "source": [
    "populacao = cria_populacao_inicial(TAMANHO_POP, NUM_GENES)\n",
    "\n",
    "melhor_fitness_ja_visto = float(\"inf\") \n",
    "contador_geracoes = 0\n",
    "\n",
    "\n",
    "print(\"Progresso da melhor senha já vista:\")\n",
    "\n",
    "while melhor_fitness_ja_visto > 0:   # enquanto não atinge o critério de parada\n",
    "    \n",
    "    # Seleção - determina o fitness e a população dos melhores individuos\n",
    "    fitness = funcao_objetivo_pop(populacao)\n",
    "    populacao = funcao_selecao(populacao, fitness)\n",
    "    \n",
    "    # Cruzamento - \n",
    "    pais = populacao[0::2]\n",
    "    maes = populacao[1::2]\n",
    "    \n",
    "    contador = 0 #iteração\n",
    "    \n",
    "    for pai, mae in zip(pais, maes):\n",
    "        if random.random() <= CHANCE_CRUZAMENTO: #se o valor for menor ou igual a chance de cruzamento haverá cruzamento\n",
    "            filho1, filho2 = funcao_cruzamento(pai, mae)\n",
    "            populacao[contador] = filho1\n",
    "            populacao[contador + 1] = filho2\n",
    "        \n",
    "        contador = contador + 2  \n",
    "    \n",
    "    # Mutação\n",
    "    for n in range(len(populacao)):\n",
    "        if random.random() <= CHANCE_MUTACAO:\n",
    "            individuo = populacao[n]\n",
    "            populacao[n] = funcao_mutacao(individuo)\n",
    "            \n",
    "    # melhor individuo já visto até agora\n",
    "    fitness = funcao_objetivo_pop(populacao)\n",
    "    menor_fitness = min(fitness)\n",
    "    if menor_fitness < melhor_fitness_ja_visto:        \n",
    "        posicao = fitness.index(menor_fitness)\n",
    "        melhor_individuo_ja_visto = populacao[posicao]\n",
    "        melhor_fitness_ja_visto = menor_fitness\n",
    "        print(\"\".join(melhor_individuo_ja_visto), \"- fitness:\", melhor_fitness_ja_visto) \n",
    "\n",
    "        contador_geracoes += 1\n",
    "        \n",
    "print()\n",
    "print(f\"Após {contador_geracoes} gerações, a senha encontrada foi:\")\n",
    "print(\"Melhor palpite da senha encontrado:\")\n",
    "print(\"\".join(melhor_individuo_ja_visto))"
   ]
  },
  {
   "cell_type": "markdown",
   "metadata": {},
   "source": [
    "------------------"
   ]
  },
  {
   "cell_type": "markdown",
   "metadata": {},
   "source": [
    "## Conclusão\n",
    "\n"
   ]
  },
  {
   "cell_type": "markdown",
   "metadata": {},
   "source": [
    "Esse problema consiste em inserir uma senha em string e rodar o algoritmo até que ele entregue a senha corretamente. Pela estrutura do problema, para analisar se a senha que o computador entrega é a mesma que a senha colocada, vamos analisar a distância: quando a distância entre as letras for 0, a senha é a mesma. Temos assim, o nosso primeiro problema de minimização. \n",
    "Por mudar o formato do problema dessa forma, tivemos que altera algumas funções. Por mais que o esqueleto do problema fosse o mesmo. Nesse caso, nossos genes são as letrinhas e os indivíduos são cada senha gerada, o cruzamento é o mesmo utilizado anterirormente, metade do pai e metade da mão, sendo a mãe os impares e o pai os pares. Já a função de seleção, mudamos para a função combate, já que a seleção por roleta máxima não se adequa ao problema de minimização. Essa função compara indivíduos e seleciona aqueles com menor fitness, ou seja, que tivesse um valor mais próximo da senha original. Com essa função um mesmo indivíduo pode ser selecionado mais de uma vez, o que pode levar ao resultado de forma mais rápida. \n",
    "\n",
    "Dessa forma, esse algoritmo foi bem efetivo e convergiu rápido para o problema de descobrir a senha. "
   ]
  },
  {
   "cell_type": "markdown",
   "metadata": {},
   "source": [
    "## Playground\n",
    "\n"
   ]
  },
  {
   "cell_type": "code",
   "execution_count": null,
   "metadata": {},
   "outputs": [],
   "source": []
  }
 ],
 "metadata": {
  "kernelspec": {
   "display_name": "ilumpy",
   "language": "python",
   "name": "ilumpy"
  },
  "language_info": {
   "codemirror_mode": {
    "name": "ipython",
    "version": 3
   },
   "file_extension": ".py",
   "mimetype": "text/x-python",
   "name": "python",
   "nbconvert_exporter": "python",
   "pygments_lexer": "ipython3",
   "version": "3.9.7"
  },
  "org": null
 },
 "nbformat": 4,
 "nbformat_minor": 4
}
