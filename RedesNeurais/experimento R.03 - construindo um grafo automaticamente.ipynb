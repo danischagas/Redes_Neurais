{
 "cells": [
  {
   "cell_type": "markdown",
   "metadata": {},
   "source": [
    "Construindo um grafo automaticamente\n",
    "====================================\n",
    "\n"
   ]
  },
  {
   "cell_type": "markdown",
   "metadata": {},
   "source": [
    "## Introdução\n",
    "\n"
   ]
  },
  {
   "cell_type": "markdown",
   "metadata": {},
   "source": [
    "Neste notebook nós vamos dar o primeiro passo para construir nossa rede neural artificial. Neste primeiro passo, nós vamos criar uma classe que gera automaticamente o nosso `grafo computacional`. O grafo computacional é o grafo que representa todas as operações matemáticas que ocorreram ao se computar um certo valor $y$. O grafo computacional é um passo necessário pois será baseado nele que iremos computar os gradientes locais necessários para realizar o `backpropagation`.\n",
    "\n"
   ]
  },
  {
   "cell_type": "markdown",
   "metadata": {},
   "source": [
    "## Importações\n",
    "\n"
   ]
  },
  {
   "cell_type": "code",
   "execution_count": 1,
   "metadata": {},
   "outputs": [],
   "source": [
    "from funcoes import plota_grafo"
   ]
  },
  {
   "cell_type": "markdown",
   "metadata": {},
   "source": [
    "## Código e discussão\n",
    "\n"
   ]
  },
  {
   "cell_type": "markdown",
   "metadata": {},
   "source": [
    "### Primeiros passos\n",
    "\n"
   ]
  },
  {
   "cell_type": "markdown",
   "metadata": {},
   "source": [
    "A base de tudo será uma classe chamada `Valor`. Vamos começar pelo básico!\n",
    "\n"
   ]
  },
  {
   "cell_type": "code",
   "execution_count": 2,
   "metadata": {},
   "outputs": [],
   "source": [
    "class Valor:\n",
    "    def __init__(self, data):\n",
    "        self.data = data\n",
    "\n",
    "    def __repr__(self):\n",
    "        return f\"Valor(data={self.data})\""
   ]
  },
  {
   "cell_type": "markdown",
   "metadata": {},
   "source": [
    "Vamos testar nossa classe!\n",
    "\n"
   ]
  },
  {
   "cell_type": "code",
   "execution_count": 3,
   "metadata": {},
   "outputs": [
    {
     "name": "stdout",
     "output_type": "stream",
     "text": [
      "Valor(data=60)\n",
      "60\n"
     ]
    }
   ],
   "source": [
    "x1 = Valor(60)\n",
    "print(x1)\n",
    "print(x1.data)"
   ]
  },
  {
   "cell_type": "markdown",
   "metadata": {},
   "source": [
    "### Os dunders `__add__` e `__mul__`\n",
    "\n"
   ]
  },
  {
   "cell_type": "markdown",
   "metadata": {},
   "source": [
    "Observe que não conseguimos adicionar nem multiplicar objetos criados com a classe `Valor`.\n",
    "\n"
   ]
  },
  {
   "cell_type": "code",
   "execution_count": 4,
   "metadata": {},
   "outputs": [],
   "source": [
    "a = Valor(10) #self.data\n",
    "b = Valor(5)"
   ]
  },
  {
   "cell_type": "code",
   "execution_count": 5,
   "metadata": {},
   "outputs": [],
   "source": [
    "#print(a + b)"
   ]
  },
  {
   "cell_type": "code",
   "execution_count": 6,
   "metadata": {},
   "outputs": [],
   "source": [
    "#print(a * b)"
   ]
  },
  {
   "cell_type": "markdown",
   "metadata": {},
   "source": [
    "Ué&#x2026; porque não conseguimos? Não conseguimos pois o Python (ainda) não é vidente. Ele lá vai saber como adicionar ou multiplicar algo que você criou? Pra você parece óbvio que valores podem ser adicionados ou multiplicados, mas para o Python ele nem sabe o que significa a palavra `Valor`&#x2026;\n",
    "\n",
    "Como sempre, temos que contar para o programa o que queremos que aconteça quando usarmos os operadores `+` e `*`. Quem faz isso são os dunders `__add__` e `__mul__`.\n",
    "\n"
   ]
  },
  {
   "cell_type": "code",
   "execution_count": 7,
   "metadata": {},
   "outputs": [],
   "source": [
    "class Valor:\n",
    "    def __init__(self, data):\n",
    "        self.data = data\n",
    "\n",
    "    def __repr__(self):\n",
    "        return f\"Valor(data={self.data})\"\n",
    "\n",
    "    def __add__(self, outro_valor):\n",
    "        saida = Valor(self.data + outro_valor.data)\n",
    "        return saida\n",
    "\n",
    "    def __mul__(self, outro_valor):\n",
    "        saida = Valor(self.data * outro_valor.data)\n",
    "        return saida"
   ]
  },
  {
   "cell_type": "markdown",
   "metadata": {},
   "source": [
    "Vamos testar!\n",
    "\n"
   ]
  },
  {
   "cell_type": "code",
   "execution_count": null,
   "metadata": {},
   "outputs": [],
   "source": []
  },
  {
   "cell_type": "markdown",
   "metadata": {},
   "source": [
    "### Registrando os progenitores\n",
    "\n"
   ]
  },
  {
   "cell_type": "markdown",
   "metadata": {},
   "source": [
    "Nosso objetivo é construir um grafo computacional. Em um grafo computacional, um certo vértice pode ter um ou mais vértices progenitores (são seus pais/mães). Nós não podemos perder essa informação quando formos construir um grafo, então precisamos incluir essa informação na nossa classe.\n",
    "\n"
   ]
  },
  {
   "cell_type": "code",
   "execution_count": 8,
   "metadata": {},
   "outputs": [],
   "source": [
    "class Valor:\n",
    "    def __init__(self, data, progenitor=()):\n",
    "        self.data = data\n",
    "        self.progenitor = progenitor\n",
    "\n",
    "    def __repr__(self):\n",
    "        return f\"Valor(data={self.data})\"\n",
    "\n",
    "    def __add__(self, outro_valor):\n",
    "        data = self.data + outro_valor.data\n",
    "        progenitor = (self, outro_valor)\n",
    "        saida = Valor(data, progenitor)\n",
    "        return saida\n",
    "\n",
    "    def __mul__(self, outro_valor):\n",
    "        data = self.data * outro_valor.data\n",
    "        progenitor = (self, outro_valor)\n",
    "        saida = Valor(data, progenitor)\n",
    "        return saida"
   ]
  },
  {
   "cell_type": "markdown",
   "metadata": {},
   "source": [
    "Vamos testar!\n",
    "\n"
   ]
  },
  {
   "cell_type": "code",
   "execution_count": 9,
   "metadata": {},
   "outputs": [
    {
     "name": "stdout",
     "output_type": "stream",
     "text": [
      "(Valor(data=10), Valor(data=5))\n"
     ]
    }
   ],
   "source": [
    "a = Valor(10)\n",
    "b = Valor(5)\n",
    "\n",
    "c = a + b\n",
    "\n",
    "print(c.progenitor)"
   ]
  },
  {
   "cell_type": "markdown",
   "metadata": {},
   "source": [
    "### Registrando o operador mãe\n",
    "\n"
   ]
  },
  {
   "cell_type": "markdown",
   "metadata": {},
   "source": [
    "Em um grafo computacional, um vértice pode ter um operador mãe. O operador mãe é o operador que foi usado para gerar o vértice.\n",
    "\n"
   ]
  },
  {
   "cell_type": "code",
   "execution_count": 10,
   "metadata": {},
   "outputs": [],
   "source": [
    "class Valor:\n",
    "    def __init__(self, data, progenitor=(), operador_mae=\"\"):\n",
    "        self.data = data\n",
    "        self.progenitor = progenitor\n",
    "        self.operador_mae = operador_mae\n",
    "\n",
    "    def __repr__(self):\n",
    "        return f\"Valor(data={self.data})\"\n",
    "\n",
    "    def __add__(self, outro_valor):\n",
    "        data = self.data + outro_valor.data\n",
    "        progenitor = (self, outro_valor)\n",
    "        operador_mae = \"+\"\n",
    "        saida = Valor(data, progenitor, operador_mae)\n",
    "        return saida\n",
    "\n",
    "    def __mul__(self, outro_valor):\n",
    "        data = self.data * outro_valor.data\n",
    "        progenitor = (self, outro_valor)\n",
    "        operador_mae = \"*\"\n",
    "        saida = Valor(data, progenitor, operador_mae)\n",
    "        return saida"
   ]
  },
  {
   "cell_type": "markdown",
   "metadata": {},
   "source": [
    "Vamos testar!\n",
    "\n"
   ]
  },
  {
   "cell_type": "code",
   "execution_count": 11,
   "metadata": {},
   "outputs": [
    {
     "name": "stdout",
     "output_type": "stream",
     "text": [
      "Valor(data=15)\n",
      "(Valor(data=10), Valor(data=5))\n",
      "+\n"
     ]
    }
   ],
   "source": [
    "a = Valor(10)\n",
    "b = Valor(5)\n",
    "\n",
    "c = a + b\n",
    "\n",
    "print(c)\n",
    "print(c.progenitor)\n",
    "print(c.operador_mae)"
   ]
  },
  {
   "cell_type": "markdown",
   "metadata": {},
   "source": [
    "### Plotando o primeiro grafo\n",
    "\n"
   ]
  },
  {
   "cell_type": "markdown",
   "metadata": {},
   "source": [
    "Vamos plotar nosso primeiro grafo!\n",
    "\n"
   ]
  },
  {
   "cell_type": "code",
   "execution_count": 12,
   "metadata": {},
   "outputs": [
    {
     "data": {
      "image/svg+xml": [
       "<?xml version=\"1.0\" encoding=\"UTF-8\" standalone=\"no\"?>\n",
       "<!DOCTYPE svg PUBLIC \"-//W3C//DTD SVG 1.1//EN\"\n",
       " \"http://www.w3.org/Graphics/SVG/1.1/DTD/svg11.dtd\">\n",
       "<!-- Generated by graphviz version 6.0.2 (20221011.1828)\n",
       " -->\n",
       "<!-- Pages: 1 -->\n",
       "<svg width=\"515pt\" height=\"127pt\"\n",
       " viewBox=\"0.00 0.00 515.00 127.00\" xmlns=\"http://www.w3.org/2000/svg\" xmlns:xlink=\"http://www.w3.org/1999/xlink\">\n",
       "<g id=\"graph0\" class=\"graph\" transform=\"scale(1 1) rotate(0) translate(4 123)\">\n",
       "<polygon fill=\"white\" stroke=\"none\" points=\"-4,4 -4,-123 511,-123 511,4 -4,4\"/>\n",
       "<!-- 1790091285408 -->\n",
       "<g id=\"node1\" class=\"node\">\n",
       "<title>1790091285408</title>\n",
       "<polygon fill=\"none\" stroke=\"black\" points=\"213,-27.5 213,-63.5 299,-63.5 299,-27.5 213,-27.5\"/>\n",
       "<text text-anchor=\"middle\" x=\"256\" y=\"-41.8\" font-family=\"Times New Roman,serif\" font-size=\"14.00\">data &#45;6.0000</text>\n",
       "</g>\n",
       "<!-- 1790091288480+ -->\n",
       "<g id=\"node7\" class=\"node\">\n",
       "<title>1790091288480+</title>\n",
       "<ellipse fill=\"none\" stroke=\"black\" cx=\"363\" cy=\"-72.5\" rx=\"27\" ry=\"18\"/>\n",
       "<text text-anchor=\"middle\" x=\"363\" y=\"-68.8\" font-family=\"Times New Roman,serif\" font-size=\"14.00\">+</text>\n",
       "</g>\n",
       "<!-- 1790091285408&#45;&gt;1790091288480+ -->\n",
       "<g id=\"edge3\" class=\"edge\">\n",
       "<title>1790091285408&#45;&gt;1790091288480+</title>\n",
       "<path fill=\"none\" stroke=\"black\" d=\"M299.1,-56.33C308.55,-58.76 318.47,-61.31 327.57,-63.65\"/>\n",
       "<polygon fill=\"black\" stroke=\"black\" points=\"326.86,-67.08 337.42,-66.18 328.61,-60.3 326.86,-67.08\"/>\n",
       "</g>\n",
       "<!-- 1790091285408* -->\n",
       "<g id=\"node2\" class=\"node\">\n",
       "<title>1790091285408*</title>\n",
       "<ellipse fill=\"none\" stroke=\"black\" cx=\"149\" cy=\"-45.5\" rx=\"27\" ry=\"18\"/>\n",
       "<text text-anchor=\"middle\" x=\"149\" y=\"-41.8\" font-family=\"Times New Roman,serif\" font-size=\"14.00\">*</text>\n",
       "</g>\n",
       "<!-- 1790091285408*&#45;&gt;1790091285408 -->\n",
       "<g id=\"edge1\" class=\"edge\">\n",
       "<title>1790091285408*&#45;&gt;1790091285408</title>\n",
       "<path fill=\"none\" stroke=\"black\" d=\"M176.23,-45.5C184.26,-45.5 193.4,-45.5 202.53,-45.5\"/>\n",
       "<polygon fill=\"black\" stroke=\"black\" points=\"202.79,-49 212.79,-45.5 202.79,-42 202.79,-49\"/>\n",
       "</g>\n",
       "<!-- 1790091284784 -->\n",
       "<g id=\"node3\" class=\"node\">\n",
       "<title>1790091284784</title>\n",
       "<polygon fill=\"none\" stroke=\"black\" points=\"0,-55.5 0,-91.5 86,-91.5 86,-55.5 0,-55.5\"/>\n",
       "<text text-anchor=\"middle\" x=\"43\" y=\"-69.8\" font-family=\"Times New Roman,serif\" font-size=\"14.00\">data &#45;3.0000</text>\n",
       "</g>\n",
       "<!-- 1790091284784&#45;&gt;1790091285408* -->\n",
       "<g id=\"edge5\" class=\"edge\">\n",
       "<title>1790091284784&#45;&gt;1790091285408*</title>\n",
       "<path fill=\"none\" stroke=\"black\" d=\"M86,-62.19C95.34,-59.68 105.13,-57.04 114.09,-54.63\"/>\n",
       "<polygon fill=\"black\" stroke=\"black\" points=\"115.05,-58 123.8,-52.02 113.23,-51.24 115.05,-58\"/>\n",
       "</g>\n",
       "<!-- 1790091287376 -->\n",
       "<g id=\"node4\" class=\"node\">\n",
       "<title>1790091287376</title>\n",
       "<polygon fill=\"none\" stroke=\"black\" points=\"212,-82.5 212,-118.5 300,-118.5 300,-82.5 212,-82.5\"/>\n",
       "<text text-anchor=\"middle\" x=\"256\" y=\"-96.8\" font-family=\"Times New Roman,serif\" font-size=\"14.00\">data 10.0000</text>\n",
       "</g>\n",
       "<!-- 1790091287376&#45;&gt;1790091288480+ -->\n",
       "<g id=\"edge4\" class=\"edge\">\n",
       "<title>1790091287376&#45;&gt;1790091288480+</title>\n",
       "<path fill=\"none\" stroke=\"black\" d=\"M300.01,-89.03C309.21,-86.58 318.81,-84.02 327.63,-81.66\"/>\n",
       "<polygon fill=\"black\" stroke=\"black\" points=\"328.8,-84.97 337.56,-79.02 327,-78.21 328.8,-84.97\"/>\n",
       "</g>\n",
       "<!-- 1790091285360 -->\n",
       "<g id=\"node5\" class=\"node\">\n",
       "<title>1790091285360</title>\n",
       "<polygon fill=\"none\" stroke=\"black\" points=\"2.5,-0.5 2.5,-36.5 83.5,-36.5 83.5,-0.5 2.5,-0.5\"/>\n",
       "<text text-anchor=\"middle\" x=\"43\" y=\"-14.8\" font-family=\"Times New Roman,serif\" font-size=\"14.00\">data 2.0000</text>\n",
       "</g>\n",
       "<!-- 1790091285360&#45;&gt;1790091285408* -->\n",
       "<g id=\"edge6\" class=\"edge\">\n",
       "<title>1790091285360&#45;&gt;1790091285408*</title>\n",
       "<path fill=\"none\" stroke=\"black\" d=\"M83.61,-28.78C93.48,-31.35 103.97,-34.07 113.57,-36.56\"/>\n",
       "<polygon fill=\"black\" stroke=\"black\" points=\"112.99,-40.03 123.55,-39.15 114.75,-33.25 112.99,-40.03\"/>\n",
       "</g>\n",
       "<!-- 1790091288480 -->\n",
       "<g id=\"node6\" class=\"node\">\n",
       "<title>1790091288480</title>\n",
       "<polygon fill=\"none\" stroke=\"black\" points=\"426,-54.5 426,-90.5 507,-90.5 507,-54.5 426,-54.5\"/>\n",
       "<text text-anchor=\"middle\" x=\"466.5\" y=\"-68.8\" font-family=\"Times New Roman,serif\" font-size=\"14.00\">data 4.0000</text>\n",
       "</g>\n",
       "<!-- 1790091288480+&#45;&gt;1790091288480 -->\n",
       "<g id=\"edge2\" class=\"edge\">\n",
       "<title>1790091288480+&#45;&gt;1790091288480</title>\n",
       "<path fill=\"none\" stroke=\"black\" d=\"M390.14,-72.5C397.91,-72.5 406.69,-72.5 415.45,-72.5\"/>\n",
       "<polygon fill=\"black\" stroke=\"black\" points=\"415.65,-76 425.65,-72.5 415.65,-69 415.65,-76\"/>\n",
       "</g>\n",
       "</g>\n",
       "</svg>\n"
      ],
      "text/plain": [
       "<graphviz.graphs.Digraph at 0x1a0c9c150a0>"
      ]
     },
     "execution_count": 12,
     "metadata": {},
     "output_type": "execute_result"
    }
   ],
   "source": [
    "a = Valor(2)\n",
    "b = Valor(-3)\n",
    "c = Valor(10)\n",
    "\n",
    "d = a * b\n",
    "e = d + c\n",
    "\n",
    "plota_grafo(e)"
   ]
  },
  {
   "cell_type": "markdown",
   "metadata": {},
   "source": [
    "### Registrando o rótulo\n",
    "\n"
   ]
  },
  {
   "cell_type": "markdown",
   "metadata": {},
   "source": [
    "Nosso grafo seria mais legível se tivéssemos rótulos indicando o que é cada vértice. Vamos incluir essa informação na nossa classe.\n",
    "\n"
   ]
  },
  {
   "cell_type": "code",
   "execution_count": 13,
   "metadata": {},
   "outputs": [],
   "source": [
    "class Valor:\n",
    "    def __init__(self, data, progenitor=(), operador_mae=\"\", rotulo=\"\"):\n",
    "        self.data = data\n",
    "        self.progenitor = progenitor\n",
    "        self.operador_mae = operador_mae\n",
    "        self.rotulo = rotulo\n",
    "\n",
    "    def __repr__(self):\n",
    "        return f\"Valor(data={self.data})\"\n",
    "\n",
    "    def __add__(self, outro_valor):\n",
    "        data = self.data + outro_valor.data\n",
    "        progenitor = (self, outro_valor)\n",
    "        operador_mae = \"+\"\n",
    "        saida = Valor(data, progenitor, operador_mae)\n",
    "        return saida\n",
    "\n",
    "    def __mul__(self, outro_valor):\n",
    "        data = self.data * outro_valor.data\n",
    "        progenitor = (self, outro_valor)\n",
    "        operador_mae = \"*\"\n",
    "        saida = Valor(data, progenitor, operador_mae)\n",
    "        return saida"
   ]
  },
  {
   "cell_type": "markdown",
   "metadata": {},
   "source": [
    "Vamos testar!\n",
    "\n"
   ]
  },
  {
   "cell_type": "code",
   "execution_count": 14,
   "metadata": {},
   "outputs": [
    {
     "name": "stdout",
     "output_type": "stream",
     "text": [
      "digraph {\n",
      "\tgraph [rankdir=LR]\n",
      "\t1790091277360 [label=\"{ a | data 2.0000 }\" shape=record]\n",
      "\t1790091264592 [label=\"{ c | data 10.0000 }\" shape=record]\n",
      "\t1790091264688 [label=\"{ e | data 4.0000 }\" shape=record]\n",
      "\t\"1790091264688+\" [label=\"+\"]\n",
      "\t\"1790091264688+\" -> 1790091264688\n",
      "\t1790091267520 [label=\"{ d | data -6.0000 }\" shape=record]\n",
      "\t\"1790091267520*\" [label=\"*\"]\n",
      "\t\"1790091267520*\" -> 1790091267520\n",
      "\t1790091278800 [label=\"{ b | data -3.0000 }\" shape=record]\n",
      "\t1790091267520 -> \"1790091264688+\"\n",
      "\t1790091278800 -> \"1790091267520*\"\n",
      "\t1790091277360 -> \"1790091267520*\"\n",
      "\t1790091264592 -> \"1790091264688+\"\n",
      "}\n",
      "\n"
     ]
    }
   ],
   "source": [
    "a = Valor(2, rotulo=\"a\")\n",
    "b = Valor(-3, rotulo=\"b\")\n",
    "c = Valor(10, rotulo=\"c\")\n",
    "\n",
    "d = a * b\n",
    "e = d + c\n",
    "\n",
    "d.rotulo = \"d\"\n",
    "e.rotulo = \"e\"\n",
    "\n",
    "grafo = plota_grafo(e)\n",
    "print(grafo)"
   ]
  },
  {
   "cell_type": "markdown",
   "metadata": {},
   "source": [
    "### Refazendo o grafo que fizemos na aula anterior\n",
    "\n"
   ]
  },
  {
   "cell_type": "markdown",
   "metadata": {},
   "source": [
    "Na aula anterior nós fizemos um grafo computacional para aprender como funciona o backpropagation. Vamos refazer ele aqui!\n",
    "\n"
   ]
  },
  {
   "cell_type": "code",
   "execution_count": 15,
   "metadata": {},
   "outputs": [
    {
     "name": "stdout",
     "output_type": "stream",
     "text": [
      "digraph {\n",
      "\tgraph [rankdir=LR]\n",
      "\t1790091164688 [label=\"{ k | data 727.0000 }\" shape=record]\n",
      "\t\"1790091164688+\" [label=\"+\"]\n",
      "\t\"1790091164688+\" -> 1790091164688\n",
      "\t1790090646096 [label=\"{ n | data 720.0000 }\" shape=record]\n",
      "\t\"1790090646096+\" [label=\"+\"]\n",
      "\t\"1790090646096+\" -> 1790090646096\n",
      "\t1790091222176 [label=\"{ w3 | data 2.0000 }\" shape=record]\n",
      "\t1790090646816 [label=\"{ s1 | data 600.0000 }\" shape=record]\n",
      "\t\"1790090646816*\" [label=\"*\"]\n",
      "\t\"1790090646816*\" -> 1790090646816\n",
      "\t1790090649408 [label=\"{ y | data 1454.0000 }\" shape=record]\n",
      "\t\"1790090649408*\" [label=\"*\"]\n",
      "\t\"1790090649408*\" -> 1790090649408\n",
      "\t1790091221312 [label=\"{ w2 | data 5.0000 }\" shape=record]\n",
      "\t1790091219344 [label=\"{ x2 | data 24.0000 }\" shape=record]\n",
      "\t1790090646432 [label=\"{ s2 | data 120.0000 }\" shape=record]\n",
      "\t\"1790090646432*\" [label=\"*\"]\n",
      "\t\"1790090646432*\" -> 1790090646432\n",
      "\t1790091221936 [label=\"{ w1 | data 10.0000 }\" shape=record]\n",
      "\t1790091221456 [label=\"{ x1 | data 60.0000 }\" shape=record]\n",
      "\t1790091222512 [label=\"{ b | data 7.0000 }\" shape=record]\n",
      "\t1790091221456 -> \"1790090646816*\"\n",
      "\t1790090646096 -> \"1790091164688+\"\n",
      "\t1790091221936 -> \"1790090646816*\"\n",
      "\t1790091222512 -> \"1790091164688+\"\n",
      "\t1790091164688 -> \"1790090649408*\"\n",
      "\t1790090646432 -> \"1790090646096+\"\n",
      "\t1790091221312 -> \"1790090646432*\"\n",
      "\t1790090646816 -> \"1790090646096+\"\n",
      "\t1790091222176 -> \"1790090649408*\"\n",
      "\t1790091219344 -> \"1790090646432*\"\n",
      "}\n",
      "\n"
     ]
    }
   ],
   "source": [
    "x1 = Valor(60, rotulo = \"x1\")\n",
    "x2 = Valor(24, rotulo = \"x2\")\n",
    "w1 = Valor(10, rotulo = \"w1\")\n",
    "w2 = Valor(5, rotulo = \"w2\")\n",
    "w3 = Valor(2, rotulo = \"w3\")\n",
    "b = Valor(7, rotulo = \"b\")\n",
    "\n",
    "s1 = x1 * w1\n",
    "s1.rotulo = \"s1\"\n",
    "\n",
    "s2 = x2 * w2\n",
    "s2.rotulo = \"s2\"\n",
    "\n",
    "n = s1 + s2\n",
    "n.rotulo = \"n\"\n",
    "\n",
    "k = n + b\n",
    "k.rotulo = \"k\"\n",
    "\n",
    "y = k * w3\n",
    "y.rotulo = \"y\"\n",
    "\n",
    "grafo = plota_grafo(y)\n",
    "print(grafo)"
   ]
  },
  {
   "cell_type": "markdown",
   "metadata": {},
   "source": [
    "# Discussão\n",
    "Esse experimento mostra como implementar uma classe em Python para construir um grafo computacional. A classe `Valor` tem como objetivo armazenar valores e informações sobre seus progenitores, o operador que foi usado para gerar o vértice e um rótulo.\n",
    "\n",
    "No código, há a definição dos métodos especiais `repr`, `add` e `mul`. O método `repr` é usado para representar o objeto \"Valor\" como uma string, quando é chamado a função print. Os métodos add e mul sobrecarregam os operadores \"+\" e \"*\", respectivamente, permitindo a adição e multiplicação de objetos criados com a classe \"Valor\".\n",
    "\n",
    "Em seguida, há uma atualização da classe, incluindo informações sobre o operador mãe e rótulo. O operador mãe é o operador usado para gerar o vértice, enquanto o rótulo é uma informação que facilita a leitura do grafo computacional.\n",
    "\n",
    "Por fim, há a demonstração do uso da classe para a construção de um grafo computacional e sua plotamos o grafo por meio da função \"plota_grafo\"."
   ]
  },
  {
   "cell_type": "markdown",
   "metadata": {},
   "source": [
    "## Conclusão\n",
    "\n"
   ]
  },
  {
   "cell_type": "markdown",
   "metadata": {},
   "source": [
    "Nesse experimento, descrevemos uma das etapas dos algoritmos de redes neurais, o foward propagation, em forma de grafos! Isso é muito interessante porque podemos visualizar esse processo de forma simplificada e \"ilustrada\". \n",
    "O mais interessante é que utilizamos o conceito que aprendemos no experimento anterior de classes para criar esses grafos. "
   ]
  },
  {
   "cell_type": "markdown",
   "metadata": {},
   "source": [
    "## Playground\n",
    "\n"
   ]
  },
  {
   "cell_type": "code",
   "execution_count": null,
   "metadata": {},
   "outputs": [],
   "source": []
  },
  {
   "cell_type": "code",
   "execution_count": null,
   "metadata": {},
   "outputs": [],
   "source": []
  },
  {
   "cell_type": "code",
   "execution_count": null,
   "metadata": {},
   "outputs": [],
   "source": []
  },
  {
   "cell_type": "code",
   "execution_count": null,
   "metadata": {},
   "outputs": [],
   "source": []
  }
 ],
 "metadata": {
  "kernelspec": {
   "display_name": "ilumpy",
   "language": "python",
   "name": "ilumpy"
  },
  "language_info": {
   "codemirror_mode": {
    "name": "ipython",
    "version": 3
   },
   "file_extension": ".py",
   "mimetype": "text/x-python",
   "name": "python",
   "nbconvert_exporter": "python",
   "pygments_lexer": "ipython3",
   "version": "3.9.7"
  },
  "org": null
 },
 "nbformat": 4,
 "nbformat_minor": 4
}
