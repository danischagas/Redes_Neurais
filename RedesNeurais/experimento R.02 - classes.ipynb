{
 "cells": [
  {
   "cell_type": "markdown",
   "metadata": {},
   "source": [
    "Introdução à Classes\n",
    "====================\n",
    "\n"
   ]
  },
  {
   "cell_type": "markdown",
   "metadata": {},
   "source": [
    "## Introdução\n",
    "\n"
   ]
  },
  {
   "cell_type": "markdown",
   "metadata": {},
   "source": [
    "Quando queremos organizar objetos em uma certa ordem bem definida, usamos `listas`.\n",
    "\n",
    "Quando queremos relacionar dois objetos entre si, usamos `dicionários`.\n",
    "\n",
    "Quando queremos agrupar objetos únicos sem repetição e sem ordem bem definida, usamos `conjuntos`.\n",
    "\n",
    "Quando queremos executar uma sequência bem definida de ações, usamos `funções`.\n",
    "\n",
    "O que nós usamos quando queremos criar uma estrutura complexa de informações e ações onde apenas listas, dicionários, conjuntos e funções não são suficientes? Neste caso, usamos `classes`!\n",
    "\n"
   ]
  },
  {
   "cell_type": "markdown",
   "metadata": {},
   "source": [
    "## Código e discussão\n",
    "\n"
   ]
  },
  {
   "cell_type": "markdown",
   "metadata": {},
   "source": [
    "### A classe mais simples do mundo\n",
    "\n"
   ]
  },
  {
   "cell_type": "markdown",
   "metadata": {},
   "source": [
    "A classe mais simples do mundo é simplesmente um amontoado de informação. Classes devem ser nomeadas sempre com a primeira letra em maiúsculo.\n",
    "\n"
   ]
  },
  {
   "cell_type": "code",
   "execution_count": 1,
   "metadata": {},
   "outputs": [],
   "source": [
    "class Dados:\n",
    "    dado1 = 10\n",
    "    dado2 = [1, 2, 3]\n",
    "    dado3 = 0.908\n",
    "    dado4 = {\"a\": 1, \"b\": 2}"
   ]
  },
  {
   "cell_type": "markdown",
   "metadata": {},
   "source": [
    "Para criar um objeto baseado na sua classe, basta chamá-la com o parênteses, da mesma forma que fazemos com funções.\n",
    "\n"
   ]
  },
  {
   "cell_type": "code",
   "execution_count": 2,
   "metadata": {},
   "outputs": [],
   "source": [
    "caio = Dados()"
   ]
  },
  {
   "cell_type": "markdown",
   "metadata": {},
   "source": [
    "Agora podemos acessar os objetos da classe. Para isso usamos o ponto final.\n",
    "\n"
   ]
  },
  {
   "cell_type": "code",
   "execution_count": 3,
   "metadata": {},
   "outputs": [
    {
     "name": "stdout",
     "output_type": "stream",
     "text": [
      "10\n"
     ]
    }
   ],
   "source": [
    "print(caio.dado1)"
   ]
  },
  {
   "cell_type": "markdown",
   "metadata": {},
   "source": [
    "Se você se perguntou &ldquo;uai, mas por que usar uma classe sendo que um dicionário faria efetivamente a mesma coisa?&rdquo;, então você está no caminho certo. Apenas armazenar dados em uma classe desta forma não representa uma vantagem objetiva em relação à usar um dicionário. Vamos seguir em frente!\n",
    "\n"
   ]
  },
  {
   "cell_type": "markdown",
   "metadata": {},
   "source": [
    "### Classes podem fazer algo ao serem criadas\n",
    "\n"
   ]
  },
  {
   "cell_type": "markdown",
   "metadata": {},
   "source": [
    "Quando nós criamos uma classe, nós dizemos que criamos uma instância desta classe. Uma instância de uma classe representa um objeto que tem as propriedades da classe.\n",
    "\n",
    "Ao instanciar uma classe, você pode executar uma tarefa. Para isso, defina o método `__init__` usando necessariamente o `self` como primeiro argumento.\n",
    "\n"
   ]
  },
  {
   "cell_type": "code",
   "execution_count": 4,
   "metadata": {},
   "outputs": [],
   "source": [
    "class Material:\n",
    "    def __init__(self, modulo_elastico):\n",
    "        self.modulo_elastico = modulo_elastico"
   ]
  },
  {
   "cell_type": "markdown",
   "metadata": {},
   "source": [
    "Agora podemos criar um objeto da classe `Material` com um certo valor de módulo elástico.\n",
    "\n"
   ]
  },
  {
   "cell_type": "code",
   "execution_count": 5,
   "metadata": {},
   "outputs": [
    {
     "name": "stdout",
     "output_type": "stream",
     "text": [
      "<__main__.Material object at 0x00000188AEF7E700>\n",
      "100\n"
     ]
    }
   ],
   "source": [
    "modulo_elastico_do_meu_material = 100\n",
    "meu_material = Material(modulo_elastico_do_meu_material)\n",
    "\n",
    "print(meu_material)\n",
    "print(meu_material.modulo_elastico)"
   ]
  },
  {
   "cell_type": "markdown",
   "metadata": {},
   "source": [
    "### Os métodos `dunder`\n",
    "\n"
   ]
  },
  {
   "cell_type": "markdown",
   "metadata": {},
   "source": [
    "Observe que acima usamos um método chamado `__init__` com prefixo de dois sublinhados e sufixo de dois sublinhados. Esses métodos com essa notação são especiais e são chamados de `dunder` (vem de *double underscore*, ou duplo sublinhado em português). Existem diversos métodos dunder!\n",
    "\n",
    "Os métodos dunder controlam certos comportamentos da nossa classe. Por exemplo, observe que quando damos `print` em um objeto instanciado de uma classe ele mostra um texto padrão do tipo `<__main__.Material object at 0x7f0d2b57f9a0>`. Quem controla o texto que é exibido é o método dunder `__repr__`. Vamos ver um exemplo.\n",
    "\n"
   ]
  },
  {
   "cell_type": "code",
   "execution_count": 6,
   "metadata": {},
   "outputs": [
    {
     "name": "stdout",
     "output_type": "stream",
     "text": [
      "Material com módulo elástico de 100 GPa.\n"
     ]
    }
   ],
   "source": [
    "class Material:\n",
    "    def __init__(self, modulo_elastico):\n",
    "        self.modulo_elastico = modulo_elastico\n",
    "\n",
    "    def __repr__(self):\n",
    "        return f\"Material com módulo elástico de {self.modulo_elastico} GPa.\"\n",
    "\n",
    "modulo_elastico_do_meu_material = 100\n",
    "meu_material = Material(modulo_elastico_do_meu_material) #nessa linha, roda o init (que é rodada sempre que um novo objeto é atribuido a classe)\n",
    "\n",
    "print(meu_material)"
   ]
  },
  {
   "cell_type": "markdown",
   "metadata": {},
   "source": [
    "### Os métodos que não são `dunder`\n",
    "\n"
   ]
  },
  {
   "cell_type": "markdown",
   "metadata": {},
   "source": [
    "Classes podem ter métodos que não são especiais. Vamos tentar implementar um método que usa a lei de Hook para calcular a tensão aplicada no material ($\\sigma$) dada uma deformação ($\\varepsilon$).\n",
    "\n",
    "$$\n",
    "\\sigma = E \\varepsilon\n",
    "$$\n",
    "\n"
   ]
  },
  {
   "cell_type": "code",
   "execution_count": 7,
   "metadata": {},
   "outputs": [
    {
     "name": "stdout",
     "output_type": "stream",
     "text": [
      "200\n"
     ]
    }
   ],
   "source": [
    "class Material:\n",
    "    def __init__(self, modulo_elastico):\n",
    "        self.modulo_elastico = modulo_elastico\n",
    "\n",
    "    def __repr__(self):\n",
    "        return f\"Material com módulo elástico de {self.modulo_elastico} GPa.\"\n",
    "    \n",
    "    def tensao(self, deformacao):\n",
    "        valor_tensao = self.modulo_elastico * deformacao\n",
    "        return valor_tensao\n",
    "\n",
    "modulo_elastico_do_meu_material = 100\n",
    "meu_material = Material(modulo_elastico_do_meu_material)\n",
    "\n",
    "deformacao = 2\n",
    "tensao = meu_material.tensao(deformacao)\n",
    "print(tensao)"
   ]
  },
  {
   "cell_type": "markdown",
   "metadata": {},
   "source": [
    "### Alterando o estado da nossa classe\n",
    "\n"
   ]
  },
  {
   "cell_type": "markdown",
   "metadata": {},
   "source": [
    "Classes são estruturas de dados onde nos preocupamos com o seu estado. No exemplo acima, nosso material tem uma propriedade chamada de `modulo_elastico`. Digamos que nós podemos aumentar o módulo elástico do nosso material realizando um tratamento térmico. Cada vez que realizamos o tratamento térmico o módulo elástico aumenta em 10%, porém o material só aguenta no máximo 5 tratamentos térmicos. Alterar uma propriedade da nossa classe é alterar seu estado. Podemos adicionar esse processo de tratamento térmico na nossa classe.\n",
    "\n"
   ]
  },
  {
   "cell_type": "code",
   "execution_count": 8,
   "metadata": {},
   "outputs": [
    {
     "name": "stdout",
     "output_type": "stream",
     "text": [
      "Material com módulo elástico de 100 GPa.\n",
      "Material com módulo elástico de 110.00000000000001 GPa.\n",
      "Material com módulo elástico de 121.00000000000003 GPa.\n",
      "Material com módulo elástico de 133.10000000000005 GPa.\n",
      "Material com módulo elástico de 146.41000000000008 GPa.\n",
      "Material com módulo elástico de 161.0510000000001 GPa.\n",
      "Material com módulo elástico de 161.0510000000001 GPa.\n",
      "Material com módulo elástico de 161.0510000000001 GPa.\n"
     ]
    }
   ],
   "source": [
    "class Material:\n",
    "    def __init__(self, modulo_elastico):\n",
    "        self.modulo_elastico = modulo_elastico\n",
    "        self.num_tratamentos = 0\n",
    "\n",
    "    def __repr__(self):\n",
    "        return f\"Material com módulo elástico de {self.modulo_elastico} GPa.\"\n",
    "\n",
    "    def tratamento_termico(self):\n",
    "        if self.num_tratamentos < 5:\n",
    "            self.modulo_elastico = self.modulo_elastico * 1.1\n",
    "            self.num_tratamentos = self.num_tratamentos + 1\n",
    "\n",
    "modulo_elastico_do_meu_material = 100\n",
    "meu_material = Material(modulo_elastico_do_meu_material)\n",
    "\n",
    "print(meu_material)\n",
    "\n",
    "meu_material.tratamento_termico()\n",
    "print(meu_material)\n",
    "\n",
    "meu_material.tratamento_termico()\n",
    "print(meu_material)\n",
    "\n",
    "meu_material.tratamento_termico()\n",
    "print(meu_material)\n",
    "\n",
    "meu_material.tratamento_termico()\n",
    "print(meu_material)\n",
    "\n",
    "meu_material.tratamento_termico()\n",
    "print(meu_material)\n",
    "\n",
    "meu_material.tratamento_termico()\n",
    "print(meu_material)\n",
    "\n",
    "meu_material.tratamento_termico()\n",
    "print(meu_material)"
   ]
  },
  {
   "cell_type": "markdown",
   "metadata": {},
   "source": [
    "### Alterando o estado da nossa classe fora dela\n",
    "\n"
   ]
  },
  {
   "cell_type": "markdown",
   "metadata": {},
   "source": [
    "Em certos casos nós precisamos alterar alguma propriedade da nossa classe fora dela (isto é, fora das linhas de código que foram usadas para definir a classe). Podemos, por exemplo, alterar o módulo elástico do nosso material &ldquo;na mão&rdquo;.\n",
    "\n"
   ]
  },
  {
   "cell_type": "code",
   "execution_count": 9,
   "metadata": {},
   "outputs": [
    {
     "name": "stdout",
     "output_type": "stream",
     "text": [
      "Material com módulo elástico de 100 GPa.\n",
      "Material com módulo elástico de 200 GPa.\n"
     ]
    }
   ],
   "source": [
    "class Material:\n",
    "    def __init__(self, modulo_elastico):\n",
    "        self.modulo_elastico = modulo_elastico\n",
    "        self.num_tratamentos = 0\n",
    "\n",
    "    def __repr__(self):\n",
    "        return f\"Material com módulo elástico de {self.modulo_elastico} GPa.\"\n",
    "\n",
    "modulo_elastico_do_meu_material = 100\n",
    "meu_material = Material(modulo_elastico_do_meu_material)\n",
    "print(meu_material)\n",
    "\n",
    "# alterando a propriedade \"na mão\"\n",
    "meu_material.modulo_elastico = 200\n",
    "print(meu_material)"
   ]
  },
  {
   "cell_type": "markdown",
   "metadata": {},
   "source": [
    "Pense muito bem antes de sair alterando propriedades de classes &ldquo;na mão&rdquo;. Não é uma ação proibida, mas também não é algo que fazemos a todo momento sem justificativa.\n",
    "\n"
   ]
  },
  {
   "cell_type": "markdown",
   "metadata": {},
   "source": [
    "### Testando suas habilidades\n",
    "\n"
   ]
  },
  {
   "cell_type": "markdown",
   "metadata": {},
   "source": [
    "Para testar suas habilidades, modifique a classe `Material` adicionando um novo argumento no método `__init__`, usando ele para criar uma nova propriedade e criando um novo método que altera o estado desta classe.\n",
    "\n"
   ]
  },
  {
   "cell_type": "code",
   "execution_count": 10,
   "metadata": {},
   "outputs": [
    {
     "name": "stdout",
     "output_type": "stream",
     "text": [
      "Material com módulo elástico de 100 GPa e densidade de 3 kg/m³.\n",
      "Tensão: 900\n",
      "Deformação: 9.0\n"
     ]
    }
   ],
   "source": [
    "class Material:\n",
    "    def __init__(self, modulo_elastico, deformacao, densidade):\n",
    "        self.modulo_elastico = modulo_elastico\n",
    "        self.num_tratamentos = 0\n",
    "        self.deformacao = deformacao\n",
    "        self.densidade = densidade\n",
    "\n",
    "    def __repr__(self):\n",
    "        return f\"Material com módulo elástico de {self.modulo_elastico} GPa e densidade de {self.densidade} kg/m³.\"\n",
    "\n",
    "    def tratamento_termico(self):\n",
    "        if self.num_tratamentos < 5:\n",
    "            self.modulo_elastico = self.modulo_elastico * 1.1\n",
    "            self.num_tratamentos += 1\n",
    "            \n",
    "    def tensao(self):\n",
    "        return self.modulo_elastico * self.deformacao\n",
    "    \n",
    "    def deformacao_por_tensao(self, tensao):\n",
    "        return tensao / self.modulo_elastico\n",
    "    \n",
    "modulo_elastico_do_meu_material = 100\n",
    "deformacao_do_meu_material= 9\n",
    "densidade_do_meu_material = 3\n",
    "meu_material = Material(modulo_elastico_do_meu_material, deformacao_do_meu_material, densidade_do_meu_material)\n",
    "\n",
    "tensao = meu_material.tensao()\n",
    "deformacao = meu_material.deformacao_por_tensao(tensao)\n",
    "\n",
    "print(meu_material)\n",
    "print(f\"Tensão: {tensao}\")\n",
    "print(f\"Deformação: {deformacao}\")"
   ]
  },
  {
   "cell_type": "markdown",
   "metadata": {},
   "source": [
    "## Discussão\n"
   ]
  },
  {
   "cell_type": "markdown",
   "metadata": {},
   "source": [
    "No exemplo que tive que realizar, modifiquei a classe discutida na sala que definia as propriedades modulo elastico e numero de tratamentos e o método dunder `repr`. A nova classe cria uma instância da classe com valores definidos para o módulo elástico, deformação e densidade. Em seguida, é calculada a tensão a partir do método tensao e a deformação a partir do método deformacao_por_tensao, utilizando a tensão calculada anteriormente. Por fim, é exibida uma representação em string da instância da classe, seguida dos valores calculados de tensão e deformação.\n",
    "Uma coisa que eu tinha ficado com dúvida, por isso achei interessante colocar foi o modo que deve-se chamar um método fora da classe que tem todas as propriedades definidas dentro da classe, como ocorre no método de tensao. "
   ]
  },
  {
   "cell_type": "markdown",
   "metadata": {},
   "source": [
    "## Conclusão\n",
    "\n"
   ]
  },
  {
   "cell_type": "markdown",
   "metadata": {},
   "source": [
    "Nesse experimento, aprendemos o conceito de classes. As classes são estruturas complexas nas quais podemos juntar informações e ações, ou seja, podemos armazenar variáveis de todos os tipos aceitáveis em Python (listas, dicionários, números inteiros, números float, etc.), além de podermos associar uma ação (função) a elas. No entanto, é importante salientar que a nomenclatura correta é que as ações realizadas dentro das classes são chamadas de métodos e as variáveis passam a ser chamadas de propriedades.\n",
    "\n",
    "Na aula de hoje, fomos apresentados também aos `dunders`, que são métodos já definidos no Python que executam ações pré-determinadas na classe. Por exemplo, o `__init__` é um método que realiza a ação que definimos ali dentro, toda vez que um novo objeto é gerado a partir daquela classe.\n",
    "\n",
    "Dessa forma, para compreendermos melhor o conceito de classe, realizamos alguns exercícios ao longo desses experimentos para fixar o conteúdo. Por exemplo, temos o módulo `Métodos que não são dunders`, que mostra como incrementar uma outra ação que não é um dunder, de forma semelhante ao que fazemos em um código Python fora das classes.\n",
    "\n",
    "Outro tópico interessante é a modificação do estado da nossa classe. Podemos fazer isso tanto dentro da classe como fora dela, embora o segundo caso não seja uma prática tão recomendada.\n",
    "\n",
    "Por fim, realizamos um exercício no qual fizemos algumas modificações na classe apresentada. Adicionamos uma nova propriedade e um novo método à classe.\n",
    "\n",
    "Com isso, é possível compreender que as classes são ferramentas poderosas que juntam muitas propriedades e métodos em um mesmo lugar, permitindo que sejam facilmente reutilizados em diferentes partes do código, tornando o desenvolvimento mais eficiente e organizado."
   ]
  },
  {
   "cell_type": "markdown",
   "metadata": {},
   "source": [
    "## Playground\n",
    "\n"
   ]
  },
  {
   "cell_type": "code",
   "execution_count": null,
   "metadata": {},
   "outputs": [],
   "source": []
  }
 ],
 "metadata": {
  "kernelspec": {
   "display_name": "ilumpy",
   "language": "python",
   "name": "ilumpy"
  },
  "language_info": {
   "codemirror_mode": {
    "name": "ipython",
    "version": 3
   },
   "file_extension": ".py",
   "mimetype": "text/x-python",
   "name": "python",
   "nbconvert_exporter": "python",
   "pygments_lexer": "ipython3",
   "version": "3.9.7"
  },
  "org": null
 },
 "nbformat": 4,
 "nbformat_minor": 4
}
